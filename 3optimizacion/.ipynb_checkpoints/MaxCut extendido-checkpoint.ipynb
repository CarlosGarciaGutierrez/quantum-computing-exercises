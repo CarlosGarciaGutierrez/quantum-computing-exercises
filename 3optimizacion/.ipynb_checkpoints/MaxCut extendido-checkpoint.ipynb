{
 "cells": [
  {
   "cell_type": "markdown",
   "metadata": {},
   "source": [
    "# Resolviendo el modelo de Ising y el problema del corte máximo con un ordenador de D-Wave\n",
    "\n",
    "En este notebook, vamos a utilizar un ordenador cuántico de D-Wave para resolver casos del modelo de Ising que se corresponden con instancias del problema del corte máximo en grafos. \n",
    "\n",
    "El hamiltoniano del modelo de Ising es $$H = \\sum_{i,j=1}^n J_{i,j}Z_iZ_j + \\sum_{i=1}^n h_iZ_i$$ \n",
    "\n",
    "En el caso particular del problema del corte máximo, se tiene $J_{i,j}=1$ y $h_i=0$ para todos los valores $i,j$.\n",
    "\n"
   ]
  },
  {
   "cell_type": "markdown",
   "metadata": {},
   "source": [
    "Definir el modelo con el que vamos a trabajar es muy sencillo: se reduce a especificar los valores de las conexiones entre pares de qubits y los coeficientes $h_i$. Por ejemplo:"
   ]
  },
  {
   "cell_type": "code",
   "execution_count": 22,
   "metadata": {
    "scrolled": true
   },
   "outputs": [
    {
     "name": "stdout",
     "output_type": "stream",
     "text": [
      "BinaryQuadraticModel({0: 0, 1: 0, 2: 0, 3: 0, 4: 0}, {(0, 1): 1, (0, 2): 1, (1, 2): 1, (1, 3): 1, (2, 4): 1, (3, 4): 1}, 0.0, Vartype.SPIN)\n"
     ]
    }
   ],
   "source": [
    "import numpy as np\n",
    "import dimod\n",
    "\n",
    "J = {(0,1):1, (1,2):1, (0,2):1, (1,3):1, (3,4):1, (2,4):1}\n",
    "\n",
    "h = {}\n",
    "model = dimod.BinaryQuadraticModel(h, J, 0.0, dimod.SPIN)\n",
    "\n",
    "print(model)\n"
   ]
  },
  {
   "cell_type": "code",
   "execution_count": 319,
   "metadata": {},
   "outputs": [
    {
     "name": "stdout",
     "output_type": "stream",
     "text": [
      "12051\n"
     ]
    }
   ],
   "source": [
    "primerSumatorio = 0\n",
    "segundoSumatorio = 0\n",
    "tercerSumatorio = 0\n",
    "primerSumando = 0\n",
    "segundoSumando = 0\n",
    "total = 0\n",
    "pesoMax = 6\n",
    "A = 250\n",
    "B = 1\n",
    "\n",
    "pesoX = 3\n",
    "pesoY = 4\n",
    "valorX = 100 \n",
    "valorY = 100\n",
    "\n",
    "for i in range(1, pesoMax):\n",
    "    if i == (pesoX + pesoY):\n",
    "        primerSumatorio += 1\n",
    "\n",
    "primerSumando = (1 - primerSumatorio) * (1 - primerSumatorio)\n",
    "\n",
    "for i in range(1, pesoMax):\n",
    "    if i == (pesoX + pesoY):\n",
    "        segundoSumatorio += i\n",
    "\n",
    "tercerSumatorio = pesoX + pesoY\n",
    "\n",
    "segundoSumando = A * ((segundoSumatorio - tercerSumatorio) * (segundoSumatorio - tercerSumatorio))\n",
    "\n",
    "total = primerSumando + segundoSumando - B * (valorX + valorY)\n",
    "\n",
    "print(total)"
   ]
  },
  {
   "cell_type": "code",
   "execution_count": 320,
   "metadata": {},
   "outputs": [
    {
     "name": "stdout",
     "output_type": "stream",
     "text": [
      "BinaryQuadraticModel({'a': 0, 'b': 0, 'c': 0}, {('a', 'b'): -200, ('a', 'c'): 8801, ('b', 'c'): 12051}, 0.0, Vartype.SPIN)\n"
     ]
    }
   ],
   "source": [
    "import numpy as np\n",
    "import dimod\n",
    "\n",
    "J = {('a', 'b'): -200, ('a', 'c'): 8801, ('b', 'c'): 12051}\n",
    "h = {}\n",
    "\n",
    "model = dimod.BinaryQuadraticModel(h, J, 0.0, dimod.SPIN)\n",
    "\n",
    "print(model)"
   ]
  },
  {
   "cell_type": "markdown",
   "metadata": {},
   "source": [
    "Podemos resolver el modelo de forma exacta"
   ]
  },
  {
   "cell_type": "code",
   "execution_count": 321,
   "metadata": {},
   "outputs": [
    {
     "name": "stdout",
     "output_type": "stream",
     "text": [
      "   a  b  c   energy num_oc.\n",
      "2 +1 +1 -1 -21052.0       1\n",
      "7 -1 -1 +1 -21052.0       1\n",
      "3 -1 +1 -1  -3050.0       1\n",
      "6 +1 -1 +1  -3050.0       1\n",
      "1 +1 -1 -1   3450.0       1\n",
      "4 -1 +1 +1   3450.0       1\n",
      "0 -1 -1 -1  20652.0       1\n",
      "5 +1 +1 +1  20652.0       1\n",
      "['SPIN', 8 rows, 8 samples, 3 variables]\n"
     ]
    }
   ],
   "source": [
    "from dimod.reference.samplers import ExactSolver\n",
    "sampler = ExactSolver()\n",
    "solution = sampler.sample(model)\n",
    "print(solution)"
   ]
  },
  {
   "cell_type": "markdown",
   "metadata": {},
   "source": [
    "O con *simulated annealing* (un método heurístico de optimización para ordenadores clásicos)"
   ]
  },
  {
   "cell_type": "code",
   "execution_count": 12,
   "metadata": {},
   "outputs": [
    {
     "name": "stdout",
     "output_type": "stream",
     "text": [
      "   0  1  2  3  4 energy num_oc.\n",
      "0 -1 -1 +1 +1 -1  -19.0       1\n",
      "1 +1 +1 -1 -1 +1  -19.0       1\n",
      "2 -1 -1 +1 +1 -1  -19.0       1\n",
      "3 -1 -1 +1 +1 -1  -19.0       1\n",
      "4 +1 +1 -1 -1 +1  -19.0       1\n",
      "5 +1 +1 -1 -1 +1  -19.0       1\n",
      "6 -1 -1 +1 +1 -1  -19.0       1\n",
      "7 -1 -1 +1 +1 -1  -19.0       1\n",
      "8 +1 +1 -1 -1 +1  -19.0       1\n",
      "9 +1 +1 -1 -1 +1  -19.0       1\n",
      "['SPIN', 10 rows, 10 samples, 5 variables]\n"
     ]
    }
   ],
   "source": [
    "sampler = dimod.SimulatedAnnealingSampler()\n",
    "response = sampler.sample(model, num_reads=10)\n",
    "print(response)"
   ]
  },
  {
   "cell_type": "markdown",
   "metadata": {},
   "source": [
    "Y, por supuesto, con el ordenador cuántico de D-Wave (requiere registro online en https://cloud.dwavesys.com/leap/)"
   ]
  },
  {
   "cell_type": "code",
   "execution_count": 13,
   "metadata": {},
   "outputs": [
    {
     "name": "stdout",
     "output_type": "stream",
     "text": [
      "   0  1  2  3  4 energy num_oc. chain_.\n",
      "0 -1 -1 +1 +1 -1  -19.0    1655     0.0\n",
      "1 +1 +1 -1 -1 +1  -19.0     921     0.0\n",
      "2 +1 -1 +1 +1 -1  -15.0     707     0.2\n",
      "4 -1 +1 -1 -1 +1  -15.0       4     0.0\n",
      "5 +1 -1 +1 +1 -1  -15.0       2     0.0\n",
      "6 +1 -1 -1 -1 +1   -9.0       1     0.0\n",
      "3 -1 +1 +1 -1 +1   -5.0    1710     0.2\n",
      "['SPIN', 7 rows, 5000 samples, 5 variables]\n"
     ]
    }
   ],
   "source": [
    "from dwave.system.samplers import DWaveSampler\n",
    "from dwave.system.composites import EmbeddingComposite\n",
    "sampler = EmbeddingComposite(DWaveSampler())\n",
    "response = sampler.sample(model, num_reads=5000)\n",
    "print(response)"
   ]
  },
  {
   "cell_type": "markdown",
   "metadata": {
    "collapsed": true
   },
   "source": [
    "Veamos ahora un caso un poco más complicado, que se corresponde con encontrar un corte máximo en el grafo de la figura\n",
    "\n",
    "<img src=\"max-cut.png\" width=\"60%\">"
   ]
  },
  {
   "cell_type": "code",
   "execution_count": 5,
   "metadata": {},
   "outputs": [],
   "source": [
    "J = {(0,1):1,(0,2):1,(1,2):1,(1,3):1,(2,4):1,(3,4):1}\n",
    "h = {}\n",
    "model = dimod.BinaryQuadraticModel(h, J, 0.0, dimod.SPIN)"
   ]
  },
  {
   "cell_type": "markdown",
   "metadata": {},
   "source": [
    "Primero lo resolvemos de forma exacta"
   ]
  },
  {
   "cell_type": "code",
   "execution_count": 6,
   "metadata": {
    "scrolled": true
   },
   "outputs": [
    {
     "name": "stdout",
     "output_type": "stream",
     "text": [
      "    0  1  2  3  4 energy num_oc.\n",
      "8  -1 -1 +1 +1 -1   -4.0       1\n",
      "9  +1 -1 +1 +1 -1   -4.0       1\n",
      "28 -1 +1 -1 -1 +1   -4.0       1\n",
      "29 +1 +1 -1 -1 +1   -4.0       1\n",
      "4  -1 +1 +1 -1 -1   -2.0       1\n",
      "11 -1 +1 +1 +1 -1   -2.0       1\n",
      "14 +1 -1 -1 +1 -1   -2.0       1\n",
      "17 +1 -1 -1 +1 +1   -2.0       1\n",
      "27 -1 +1 +1 -1 +1   -2.0       1\n",
      "30 +1 -1 -1 -1 +1   -2.0       1\n",
      "2  +1 +1 -1 -1 -1    0.0       1\n",
      "3  -1 +1 -1 -1 -1    0.0       1\n",
      "6  +1 -1 +1 -1 -1    0.0       1\n",
      "7  -1 -1 +1 -1 -1    0.0       1\n",
      "12 -1 +1 -1 +1 -1    0.0       1\n",
      "13 +1 +1 -1 +1 -1    0.0       1\n",
      "18 +1 +1 -1 +1 +1    0.0       1\n",
      "19 -1 +1 -1 +1 +1    0.0       1\n",
      "22 +1 -1 +1 +1 +1    0.0       1\n",
      "23 -1 -1 +1 +1 +1    0.0       1\n",
      "24 -1 -1 +1 -1 +1    0.0       1\n",
      "25 +1 -1 +1 -1 +1    0.0       1\n",
      "1  +1 -1 -1 -1 -1    2.0       1\n",
      "5  +1 +1 +1 -1 -1    2.0       1\n",
      "10 +1 +1 +1 +1 -1    2.0       1\n",
      "15 -1 -1 -1 +1 -1    2.0       1\n",
      "16 -1 -1 -1 +1 +1    2.0       1\n",
      "20 -1 +1 +1 +1 +1    2.0       1\n",
      "26 +1 +1 +1 -1 +1    2.0       1\n",
      "31 -1 -1 -1 -1 +1    2.0       1\n",
      "0  -1 -1 -1 -1 -1    6.0       1\n",
      "21 +1 +1 +1 +1 +1    6.0       1\n",
      "['SPIN', 32 rows, 32 samples, 5 variables]\n"
     ]
    }
   ],
   "source": [
    "sampler = ExactSolver()\n",
    "solution = sampler.sample(model)\n",
    "print(solution)"
   ]
  },
  {
   "cell_type": "markdown",
   "metadata": {},
   "source": [
    "Ahora, con *simulated annealing*"
   ]
  },
  {
   "cell_type": "code",
   "execution_count": 7,
   "metadata": {},
   "outputs": [
    {
     "name": "stdout",
     "output_type": "stream",
     "text": [
      "   0  1  2  3  4 energy num_oc.\n",
      "0 +1 +1 -1 -1 +1   -4.0       1\n",
      "1 -1 -1 +1 +1 -1   -4.0       1\n",
      "2 -1 -1 +1 +1 -1   -4.0       1\n",
      "3 +1 -1 +1 +1 -1   -4.0       1\n",
      "4 -1 -1 +1 +1 -1   -4.0       1\n",
      "5 -1 +1 -1 -1 +1   -4.0       1\n",
      "6 +1 -1 +1 +1 -1   -4.0       1\n",
      "7 +1 +1 -1 -1 +1   -4.0       1\n",
      "8 -1 -1 +1 +1 -1   -4.0       1\n",
      "9 +1 -1 +1 +1 -1   -4.0       1\n",
      "['SPIN', 10 rows, 10 samples, 5 variables]\n"
     ]
    }
   ],
   "source": [
    "sampler = dimod.SimulatedAnnealingSampler()\n",
    "response = sampler.sample(model, num_reads=10)\n",
    "print(response)"
   ]
  },
  {
   "cell_type": "markdown",
   "metadata": {},
   "source": [
    "Finalmente, lo resolvemos nuevamente con el *quantum annealer*"
   ]
  },
  {
   "cell_type": "code",
   "execution_count": 8,
   "metadata": {},
   "outputs": [
    {
     "name": "stdout",
     "output_type": "stream",
     "text": [
      "   0  1  2  3  4 energy num_oc. chain_.\n",
      "0 +1 +1 -1 -1 +1   -4.0    1089     0.0\n",
      "1 -1 +1 -1 -1 +1   -4.0     696     0.0\n",
      "2 -1 -1 +1 +1 -1   -4.0     835     0.0\n",
      "4 +1 +1 -1 -1 +1   -4.0     990     0.2\n",
      "5 +1 -1 +1 +1 -1   -4.0     919     0.0\n",
      "3 -1 +1 +1 +1 -1   -2.0     469     0.2\n",
      "6 -1 +1 +1 -1 -1   -2.0       1     0.0\n",
      "7 +1 -1 -1 -1 +1   -2.0       1     0.0\n",
      "['SPIN', 8 rows, 5000 samples, 5 variables]\n"
     ]
    }
   ],
   "source": [
    "sampler = EmbeddingComposite(DWaveSampler())\n",
    "response = sampler.sample(model, num_reads=5000)\n",
    "print(response)"
   ]
  },
  {
   "cell_type": "code",
   "execution_count": null,
   "metadata": {},
   "outputs": [],
   "source": []
  }
 ],
 "metadata": {
  "kernelspec": {
   "display_name": "Python 3",
   "language": "python",
   "name": "python3"
  },
  "language_info": {
   "codemirror_mode": {
    "name": "ipython",
    "version": 3
   },
   "file_extension": ".py",
   "mimetype": "text/x-python",
   "name": "python",
   "nbconvert_exporter": "python",
   "pygments_lexer": "ipython3",
   "version": "3.7.3"
  }
 },
 "nbformat": 4,
 "nbformat_minor": 2
}
