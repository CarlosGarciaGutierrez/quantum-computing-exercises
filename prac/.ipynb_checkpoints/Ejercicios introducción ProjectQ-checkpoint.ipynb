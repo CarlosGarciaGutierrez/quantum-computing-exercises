{
 "cells": [
  {
   "cell_type": "markdown",
   "metadata": {},
   "source": [
    "## Ejercicios de introducción a ProjectQ\n",
    "\n",
    "1) Escribe una función de nombre hello_entangled_world que reciba un *engine* y devuelva el estado de los qubits después de ejecutar el circuito de la figura.\n",
    "\n",
    "<img src=\"bell.png\" width=50%>"
   ]
  },
  {
   "cell_type": "code",
   "execution_count": 13,
   "metadata": {},
   "outputs": [],
   "source": [
    "import projectq\n",
    "from projectq.ops import *\n",
    "\n",
    "def hello_entangled_world(eng):\n",
    "\n",
    "    q = eng.allocate_qureg(2)\n",
    "    \n",
    "    H | q[0]\n",
    "    CNOT | (q[0], q[1])\n",
    "    \n",
    "    All(Measure) | q\n",
    "    \n",
    "    eng.flush()\n",
    "    \n",
    "    return q"
   ]
  },
  {
   "cell_type": "markdown",
   "metadata": {},
   "source": [
    "2) Usando el simulador, ejecuta el circuito 1000 veces y calcula la frecuencia de cada una de las cuatro posibles salidas. "
   ]
  },
  {
   "cell_type": "code",
   "execution_count": 14,
   "metadata": {},
   "outputs": [
    {
     "name": "stdout",
     "output_type": "stream",
     "text": [
      "{'00': 520, '01': 0, '10': 0, '11': 480}\n",
      "Frecuencia 00: 0.52\n",
      "Frecuencia 01: 0.0\n",
      "Frecuencia 10: 0.0\n",
      "Frecuencia 11: 0.48\n"
     ]
    }
   ],
   "source": [
    "def circuito1(numEjecuciones):\n",
    "\n",
    "    resultados = {\"00\":0, \"01\":0, \"10\":0, \"11\":0}\n",
    "\n",
    "    for _ in range(numEjecuciones):\n",
    "\n",
    "        q = hello_entangled_world(eng)\n",
    "\n",
    "        valor = str(int(q[0])) + str(int(q[1]))\n",
    "\n",
    "        resultados[valor] += 1\n",
    "\n",
    "    print(resultados)\n",
    "    \n",
    "    print(\"Frecuencia 00: \" + str(resultados[\"00\"]/numEjecuciones))\n",
    "    \n",
    "    print(\"Frecuencia 01: \" + str(resultados[\"01\"]/numEjecuciones))\n",
    "    \n",
    "    print(\"Frecuencia 10: \" + str(resultados[\"10\"]/numEjecuciones))\n",
    "\n",
    "    print(\"Frecuencia 11: \" + str(resultados[\"11\"]/numEjecuciones))\n",
    "\n",
    "eng = projectq.MainEngine()\n",
    "\n",
    "circuito1(1000)"
   ]
  },
  {
   "cell_type": "markdown",
   "metadata": {},
   "source": [
    "3) Repite el cálculo de frecuencias, pero esta vez en el ordenador de la IBM Quantum Experience "
   ]
  },
  {
   "cell_type": "code",
   "execution_count": 18,
   "metadata": {},
   "outputs": [
    {
     "name": "stdout",
     "output_type": "stream",
     "text": [
      "- Authenticating...\n",
      "IBM QE user (e-mail) > carlosgarciagutierrez@yahoo.com\n",
      "IBM QE password > ········\n",
      "- Running code: \n",
      "include \"qelib1.inc\";\n",
      "qreg q[2];\n",
      "creg c[2];\n",
      "h q[1];\n",
      "cx q[1], q[0];\n",
      "measure q[1] -> c[1];\n",
      "measure q[0] -> c[0];\n",
      "- Waiting for results...\n",
      "Waiting for results. [Job ID: 5ceee67bb43b3400766d3c99]\n",
      "Currently there are 4 jobs queued for execution on ibmqx4.\n"
     ]
    },
    {
     "ename": "Exception",
     "evalue": "Timeout. The ID of your submitted job is 5ceee67bb43b3400766d3c99.\n raised in:\n'  File \"/home/carlos/.local/lib/python3.7/site-packages/projectq/backends/_ibm/_ibm_http_client.py\", line 194, in _get_result'\n'    .format(execution_id))'",
     "output_type": "error",
     "traceback": [
      "\u001b[0;31m---------------------------------------------------------------------------\u001b[0m",
      "\u001b[0;31mException\u001b[0m                                 Traceback (most recent call last)",
      "\u001b[0;32m<ipython-input-18-8813f4543223>\u001b[0m in \u001b[0;36m<module>\u001b[0;34m\u001b[0m\n\u001b[1;32m      9\u001b[0m                           engine_list = projectq.setups.ibm.get_engine_list())\n\u001b[1;32m     10\u001b[0m \u001b[0;34m\u001b[0m\u001b[0m\n\u001b[0;32m---> 11\u001b[0;31m \u001b[0mcircuito1\u001b[0m\u001b[0;34m(\u001b[0m\u001b[0;36m1000\u001b[0m\u001b[0;34m)\u001b[0m\u001b[0;34m\u001b[0m\u001b[0;34m\u001b[0m\u001b[0m\n\u001b[0m",
      "\u001b[0;32m<ipython-input-14-f8f06fbbeaee>\u001b[0m in \u001b[0;36mcircuito1\u001b[0;34m(numEjecuciones)\u001b[0m\n\u001b[1;32m      5\u001b[0m     \u001b[0;32mfor\u001b[0m \u001b[0m_\u001b[0m \u001b[0;32min\u001b[0m \u001b[0mrange\u001b[0m\u001b[0;34m(\u001b[0m\u001b[0mnumEjecuciones\u001b[0m\u001b[0;34m)\u001b[0m\u001b[0;34m:\u001b[0m\u001b[0;34m\u001b[0m\u001b[0;34m\u001b[0m\u001b[0m\n\u001b[1;32m      6\u001b[0m \u001b[0;34m\u001b[0m\u001b[0m\n\u001b[0;32m----> 7\u001b[0;31m         \u001b[0mq\u001b[0m \u001b[0;34m=\u001b[0m \u001b[0mhello_entangled_world\u001b[0m\u001b[0;34m(\u001b[0m\u001b[0meng\u001b[0m\u001b[0;34m)\u001b[0m\u001b[0;34m\u001b[0m\u001b[0;34m\u001b[0m\u001b[0m\n\u001b[0m\u001b[1;32m      8\u001b[0m \u001b[0;34m\u001b[0m\u001b[0m\n\u001b[1;32m      9\u001b[0m         \u001b[0mvalor\u001b[0m \u001b[0;34m=\u001b[0m \u001b[0mstr\u001b[0m\u001b[0;34m(\u001b[0m\u001b[0mint\u001b[0m\u001b[0;34m(\u001b[0m\u001b[0mq\u001b[0m\u001b[0;34m[\u001b[0m\u001b[0;36m0\u001b[0m\u001b[0;34m]\u001b[0m\u001b[0;34m)\u001b[0m\u001b[0;34m)\u001b[0m \u001b[0;34m+\u001b[0m \u001b[0mstr\u001b[0m\u001b[0;34m(\u001b[0m\u001b[0mint\u001b[0m\u001b[0;34m(\u001b[0m\u001b[0mq\u001b[0m\u001b[0;34m[\u001b[0m\u001b[0;36m1\u001b[0m\u001b[0;34m]\u001b[0m\u001b[0;34m)\u001b[0m\u001b[0;34m)\u001b[0m\u001b[0;34m\u001b[0m\u001b[0;34m\u001b[0m\u001b[0m\n",
      "\u001b[0;32m<ipython-input-13-03035d7d27b2>\u001b[0m in \u001b[0;36mhello_entangled_world\u001b[0;34m(eng)\u001b[0m\n\u001b[1;32m     11\u001b[0m     \u001b[0mAll\u001b[0m\u001b[0;34m(\u001b[0m\u001b[0mMeasure\u001b[0m\u001b[0;34m)\u001b[0m \u001b[0;34m|\u001b[0m \u001b[0mq\u001b[0m\u001b[0;34m\u001b[0m\u001b[0;34m\u001b[0m\u001b[0m\n\u001b[1;32m     12\u001b[0m \u001b[0;34m\u001b[0m\u001b[0m\n\u001b[0;32m---> 13\u001b[0;31m     \u001b[0meng\u001b[0m\u001b[0;34m.\u001b[0m\u001b[0mflush\u001b[0m\u001b[0;34m(\u001b[0m\u001b[0;34m)\u001b[0m\u001b[0;34m\u001b[0m\u001b[0;34m\u001b[0m\u001b[0m\n\u001b[0m\u001b[1;32m     14\u001b[0m \u001b[0;34m\u001b[0m\u001b[0m\n\u001b[1;32m     15\u001b[0m     \u001b[0;32mreturn\u001b[0m \u001b[0mq\u001b[0m\u001b[0;34m\u001b[0m\u001b[0;34m\u001b[0m\u001b[0m\n",
      "\u001b[0;32m~/.local/lib/python3.7/site-packages/projectq/cengines/_main.py\u001b[0m in \u001b[0;36mflush\u001b[0;34m(self, deallocate_qubits)\u001b[0m\n\u001b[1;32m    302\u001b[0m                 \u001b[0mqb\u001b[0m \u001b[0;34m=\u001b[0m \u001b[0mself\u001b[0m\u001b[0;34m.\u001b[0m\u001b[0mactive_qubits\u001b[0m\u001b[0;34m.\u001b[0m\u001b[0mpop\u001b[0m\u001b[0;34m(\u001b[0m\u001b[0;34m)\u001b[0m\u001b[0;34m\u001b[0m\u001b[0;34m\u001b[0m\u001b[0m\n\u001b[1;32m    303\u001b[0m                 \u001b[0mqb\u001b[0m\u001b[0;34m.\u001b[0m\u001b[0m__del__\u001b[0m\u001b[0;34m(\u001b[0m\u001b[0;34m)\u001b[0m\u001b[0;34m\u001b[0m\u001b[0;34m\u001b[0m\u001b[0m\n\u001b[0;32m--> 304\u001b[0;31m         \u001b[0mself\u001b[0m\u001b[0;34m.\u001b[0m\u001b[0mreceive\u001b[0m\u001b[0;34m(\u001b[0m\u001b[0;34m[\u001b[0m\u001b[0mCommand\u001b[0m\u001b[0;34m(\u001b[0m\u001b[0mself\u001b[0m\u001b[0;34m,\u001b[0m \u001b[0mFlushGate\u001b[0m\u001b[0;34m(\u001b[0m\u001b[0;34m)\u001b[0m\u001b[0;34m,\u001b[0m \u001b[0;34m(\u001b[0m\u001b[0;34m[\u001b[0m\u001b[0mWeakQubitRef\u001b[0m\u001b[0;34m(\u001b[0m\u001b[0mself\u001b[0m\u001b[0;34m,\u001b[0m \u001b[0;34m-\u001b[0m\u001b[0;36m1\u001b[0m\u001b[0;34m)\u001b[0m\u001b[0;34m]\u001b[0m\u001b[0;34m,\u001b[0m\u001b[0;34m)\u001b[0m\u001b[0;34m)\u001b[0m\u001b[0;34m]\u001b[0m\u001b[0;34m)\u001b[0m\u001b[0;34m\u001b[0m\u001b[0;34m\u001b[0m\u001b[0m\n\u001b[0m",
      "\u001b[0;32m~/.local/lib/python3.7/site-packages/projectq/cengines/_main.py\u001b[0m in \u001b[0;36mreceive\u001b[0;34m(self, command_list)\u001b[0m\n\u001b[1;32m    264\u001b[0m                 then send on)\n\u001b[1;32m    265\u001b[0m         \"\"\"\n\u001b[0;32m--> 266\u001b[0;31m         \u001b[0mself\u001b[0m\u001b[0;34m.\u001b[0m\u001b[0msend\u001b[0m\u001b[0;34m(\u001b[0m\u001b[0mcommand_list\u001b[0m\u001b[0;34m)\u001b[0m\u001b[0;34m\u001b[0m\u001b[0;34m\u001b[0m\u001b[0m\n\u001b[0m\u001b[1;32m    267\u001b[0m \u001b[0;34m\u001b[0m\u001b[0m\n\u001b[1;32m    268\u001b[0m     \u001b[0;32mdef\u001b[0m \u001b[0msend\u001b[0m\u001b[0;34m(\u001b[0m\u001b[0mself\u001b[0m\u001b[0;34m,\u001b[0m \u001b[0mcommand_list\u001b[0m\u001b[0;34m)\u001b[0m\u001b[0;34m:\u001b[0m\u001b[0;34m\u001b[0m\u001b[0;34m\u001b[0m\u001b[0m\n",
      "\u001b[0;32m~/.local/lib/python3.7/site-packages/projectq/cengines/_main.py\u001b[0m in \u001b[0;36msend\u001b[0;34m(self, command_list)\u001b[0m\n\u001b[1;32m    286\u001b[0m                                              \"\\n\" + repr(last_line[-2]))\n\u001b[1;32m    287\u001b[0m                 \u001b[0mcompact_exception\u001b[0m\u001b[0;34m.\u001b[0m\u001b[0m__cause__\u001b[0m \u001b[0;34m=\u001b[0m \u001b[0;32mNone\u001b[0m\u001b[0;34m\u001b[0m\u001b[0;34m\u001b[0m\u001b[0m\n\u001b[0;32m--> 288\u001b[0;31m                 \u001b[0;32mraise\u001b[0m \u001b[0mcompact_exception\u001b[0m  \u001b[0;31m# use verbose=True for more info\u001b[0m\u001b[0;34m\u001b[0m\u001b[0;34m\u001b[0m\u001b[0m\n\u001b[0m\u001b[1;32m    289\u001b[0m \u001b[0;34m\u001b[0m\u001b[0m\n\u001b[1;32m    290\u001b[0m     \u001b[0;32mdef\u001b[0m \u001b[0mflush\u001b[0m\u001b[0;34m(\u001b[0m\u001b[0mself\u001b[0m\u001b[0;34m,\u001b[0m \u001b[0mdeallocate_qubits\u001b[0m\u001b[0;34m=\u001b[0m\u001b[0;32mFalse\u001b[0m\u001b[0;34m)\u001b[0m\u001b[0;34m:\u001b[0m\u001b[0;34m\u001b[0m\u001b[0;34m\u001b[0m\u001b[0m\n",
      "\u001b[0;31mException\u001b[0m: Timeout. The ID of your submitted job is 5ceee67bb43b3400766d3c99.\n raised in:\n'  File \"/home/carlos/.local/lib/python3.7/site-packages/projectq/backends/_ibm/_ibm_http_client.py\", line 194, in _get_result'\n'    .format(execution_id))'"
     ]
    }
   ],
   "source": [
    "import projectq.setups.ibm\n",
    "\n",
    "from projectq.backends import IBMBackend\n",
    "\n",
    "eng = projectq.MainEngine(IBMBackend(use_hardware=True, \n",
    "                                     num_runs=1024,verbose=True, \n",
    "                                     device='ibmqx4',\n",
    "                                     num_retries=30),\n",
    "                          engine_list = projectq.setups.ibm.get_engine_list())\n",
    "\n",
    "circuito1(1000)"
   ]
  },
  {
   "cell_type": "markdown",
   "metadata": {},
   "source": [
    "4) Accediendo directamente a la función de onda, calcula las amplitudes y las probabilidades de cada uno de los estados de la base computacional."
   ]
  },
  {
   "cell_type": "code",
   "execution_count": 21,
   "metadata": {},
   "outputs": [
    {
     "name": "stdout",
     "output_type": "stream",
     "text": [
      "Amplitudes: {'0': (0.7071067811865475+0j), '1': (0.7071067811865475+0j)}\n",
      "Probabilidades {'0': 0.4999999999999999, '1': 0.4999999999999999}\n"
     ]
    }
   ],
   "source": [
    "eng = projectq.MainEngine()\n",
    "\n",
    "qubit = eng.allocate_qureg()\n",
    "\n",
    "H | qubit\n",
    "\n",
    "eng.flush()\n",
    "\n",
    "amp = {}\n",
    "prob = {}\n",
    "\n",
    "for val in ['00','01', '10', '11']:\n",
    "    amp[val]  = eng.backend.get_amplitude(val,qubit)\n",
    "    prob[val] = eng.backend.get_probability(val,qubit)\n",
    "    \n",
    "print('Amplitudes:', amp)\n",
    "print('Probabilidades', prob)\n",
    "\n",
    "Measure | qubit\n",
    "\n",
    "\n",
    "\n",
    "    q = eng.allocate_qureg(2)\n",
    "    \n",
    "    H | q[0]\n",
    "    CNOT | (q[0], q[1])\n",
    "    \n",
    "    All(Measure) | q\n",
    "    \n",
    "    eng.flush()\n",
    "    \n",
    "    return q"
   ]
  },
  {
   "cell_type": "markdown",
   "metadata": {},
   "source": [
    "5) ¿Crees que podrías diseñar un circuito que entrelazara 3 qubits de forma que su estado fuera $\\frac{1}{\\sqrt{2}}(|000\\rangle+|111\\rangle)$? "
   ]
  },
  {
   "cell_type": "code",
   "execution_count": null,
   "metadata": {
    "collapsed": true
   },
   "outputs": [],
   "source": []
  },
  {
   "cell_type": "markdown",
   "metadata": {},
   "source": [
    "6) Comprueba la siguiente equivalencia de puertas $$ Z = H X H$$\n",
    "\n",
    "Para ello, ten en cuenta que es necesario y suficiente comprobar que dan el mismo resultado (obtienen el mismo estado, no sólo las mismas probabilidades) para los valores iniciales del qubit $|0\\rangle$ y $|1\\rangle$."
   ]
  },
  {
   "cell_type": "code",
   "execution_count": null,
   "metadata": {
    "collapsed": true
   },
   "outputs": [],
   "source": []
  },
  {
   "cell_type": "markdown",
   "metadata": {},
   "source": [
    "7) Comprueba también la siguiente equivalencia de puertas $$S^\\dagger = S S S$$"
   ]
  },
  {
   "cell_type": "code",
   "execution_count": null,
   "metadata": {
    "collapsed": true
   },
   "outputs": [],
   "source": []
  },
  {
   "cell_type": "markdown",
   "metadata": {},
   "source": [
    "8) ¿Qué función calcula el circuito de la figura? Ten en cuenta que ahora hay cuatro posibles valores iniciales para los qubits: $|00\\rangle,|01\\rangle,|10\\rangle$ y $|11\\rangle$.\n",
    "\n",
    "<img src=\"circuito8.png\" width=50%>"
   ]
  },
  {
   "cell_type": "code",
   "execution_count": null,
   "metadata": {
    "collapsed": true
   },
   "outputs": [],
   "source": []
  },
  {
   "cell_type": "markdown",
   "metadata": {},
   "source": [
    "9) Determina qué función es calculada por el circuito de la figura. De nuevo, hay cuatro posibles valores iniciales para los qubits.\n",
    "\n",
    "<img src=\"circuito9.png\" width=50%>"
   ]
  },
  {
   "cell_type": "code",
   "execution_count": null,
   "metadata": {
    "collapsed": true
   },
   "outputs": [],
   "source": []
  },
  {
   "cell_type": "markdown",
   "metadata": {},
   "source": [
    "10) Comprueba que el circuito de la figura es equivalente a una puerta de Toffoli (ahora el número de posibles valores inciales que debes comprobar es 8, porque hay tres qubits). \n",
    "\n",
    "<img src=\"toffoli.png\" width=80%>"
   ]
  },
  {
   "cell_type": "code",
   "execution_count": null,
   "metadata": {
    "collapsed": true
   },
   "outputs": [],
   "source": []
  },
  {
   "cell_type": "markdown",
   "metadata": {},
   "source": [
    "11) Crea un circuito con una sola puerta de Toffoli. Si lo lanzas a ejecutar en IBM Quantum Experience, ¿en qué puertas se transforma?"
   ]
  },
  {
   "cell_type": "code",
   "execution_count": null,
   "metadata": {
    "collapsed": true
   },
   "outputs": [],
   "source": []
  },
  {
   "cell_type": "markdown",
   "metadata": {},
   "source": [
    "12) Comprobemos los límites del simulador de ProjectQ. Crea una función que reciba un parámetro $n$ entero y cree un circuito en el que se aplica la puerta $H$ a cada uno de los qubits y luego se aplica la puerta $CNOT$ a cada par de qubits consecutivos. Finalmente, se miden todos los qubits. ¿Cuál es el mayor $n$ para el que se puede ejecutar el circuito en el simulador?"
   ]
  },
  {
   "cell_type": "code",
   "execution_count": null,
   "metadata": {
    "collapsed": true
   },
   "outputs": [],
   "source": []
  }
 ],
 "metadata": {
  "kernelspec": {
   "display_name": "Python 3",
   "language": "python",
   "name": "python3"
  },
  "language_info": {
   "codemirror_mode": {
    "name": "ipython",
    "version": 3
   },
   "file_extension": ".py",
   "mimetype": "text/x-python",
   "name": "python",
   "nbconvert_exporter": "python",
   "pygments_lexer": "ipython3",
   "version": "3.7.3"
  }
 },
 "nbformat": 4,
 "nbformat_minor": 2
}
