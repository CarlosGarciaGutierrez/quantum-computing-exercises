{
 "cells": [
  {
   "cell_type": "markdown",
   "metadata": {},
   "source": [
    "## Carlos García Gutiérrez (UO139393)\n",
    "## Ejercicios de introducción a ProjectQ\n",
    "\n",
    "1) Escribe una función de nombre hello_entangled_world que reciba un *engine* y devuelva el estado de los qubits después de ejecutar el circuito de la figura.\n",
    "\n",
    "<img src=\"bell.png\" width=50%>"
   ]
  },
  {
   "cell_type": "code",
   "execution_count": 2,
   "metadata": {},
   "outputs": [],
   "source": [
    "import projectq\n",
    "from projectq.ops import *\n",
    "\n",
    "def hello_entangled_world(eng):\n",
    "\n",
    "    q = eng.allocate_qureg(2)\n",
    "    \n",
    "    H | q[0]\n",
    "    CNOT | (q[0], q[1])\n",
    "    \n",
    "    All(Measure) | q\n",
    "    \n",
    "    eng.flush()\n",
    "    \n",
    "    return q"
   ]
  },
  {
   "cell_type": "markdown",
   "metadata": {},
   "source": [
    "2) Usando el simulador, ejecuta el circuito 1000 veces y calcula la frecuencia de cada una de las cuatro posibles salidas. "
   ]
  },
  {
   "cell_type": "code",
   "execution_count": 3,
   "metadata": {},
   "outputs": [
    {
     "name": "stdout",
     "output_type": "stream",
     "text": [
      "{'00': 521, '01': 0, '10': 0, '11': 479}\n",
      "Frecuencia 00: 0.521\n",
      "Frecuencia 01: 0.0\n",
      "Frecuencia 10: 0.0\n",
      "Frecuencia 11: 0.479\n"
     ]
    }
   ],
   "source": [
    "def circuito1(numEjecuciones):\n",
    "\n",
    "    resultados = {\"00\":0, \"01\":0, \"10\":0, \"11\":0}\n",
    "\n",
    "    for _ in range(numEjecuciones):\n",
    "\n",
    "        q = hello_entangled_world(eng)\n",
    "\n",
    "        valor = str(int(q[0])) + str(int(q[1]))\n",
    "\n",
    "        resultados[valor] += 1\n",
    "\n",
    "    print(resultados)\n",
    "    \n",
    "    print(\"Frecuencia 00: \" + str(resultados[\"00\"]/numEjecuciones))\n",
    "    \n",
    "    print(\"Frecuencia 01: \" + str(resultados[\"01\"]/numEjecuciones))\n",
    "    \n",
    "    print(\"Frecuencia 10: \" + str(resultados[\"10\"]/numEjecuciones))\n",
    "\n",
    "    print(\"Frecuencia 11: \" + str(resultados[\"11\"]/numEjecuciones))\n",
    "\n",
    "eng = projectq.MainEngine()\n",
    "\n",
    "circuito1(1000)"
   ]
  },
  {
   "cell_type": "markdown",
   "metadata": {},
   "source": [
    "3) Repite el cálculo de frecuencias, pero esta vez en el ordenador de la IBM Quantum Experience "
   ]
  },
  {
   "cell_type": "code",
   "execution_count": 3,
   "metadata": {},
   "outputs": [
    {
     "name": "stdout",
     "output_type": "stream",
     "text": [
      "- Authenticating...\n",
      "IBM QE user (e-mail) > carlosgarciagutierrez@yahoo.com\n",
      "IBM QE password > ········\n",
      "- Running code: \n",
      "include \"qelib1.inc\";\n",
      "qreg q[2];\n",
      "creg c[2];\n",
      "h q[1];\n",
      "cx q[1], q[0];\n",
      "measure q[1] -> c[1];\n",
      "measure q[0] -> c[0];\n",
      "- Waiting for results...\n",
      "Waiting for results. [Job ID: 5cf03a1aad82ea006e7ff613]\n",
      "Currently there are 12 jobs queued for execution on ibmqx4.\n"
     ]
    },
    {
     "ename": "Exception",
     "evalue": "Timeout. The ID of your submitted job is 5cf03a1aad82ea006e7ff613.\n raised in:\n'  File \"/home/carlos/.local/lib/python3.7/site-packages/projectq/backends/_ibm/_ibm_http_client.py\", line 194, in _get_result'\n'    .format(execution_id))'",
     "output_type": "error",
     "traceback": [
      "\u001b[0;31m---------------------------------------------------------------------------\u001b[0m",
      "\u001b[0;31mException\u001b[0m                                 Traceback (most recent call last)",
      "\u001b[0;32m<ipython-input-3-8813f4543223>\u001b[0m in \u001b[0;36m<module>\u001b[0;34m\u001b[0m\n\u001b[1;32m      9\u001b[0m                           engine_list = projectq.setups.ibm.get_engine_list())\n\u001b[1;32m     10\u001b[0m \u001b[0;34m\u001b[0m\u001b[0m\n\u001b[0;32m---> 11\u001b[0;31m \u001b[0mcircuito1\u001b[0m\u001b[0;34m(\u001b[0m\u001b[0;36m1000\u001b[0m\u001b[0;34m)\u001b[0m\u001b[0;34m\u001b[0m\u001b[0;34m\u001b[0m\u001b[0m\n\u001b[0m",
      "\u001b[0;32m<ipython-input-2-f8f06fbbeaee>\u001b[0m in \u001b[0;36mcircuito1\u001b[0;34m(numEjecuciones)\u001b[0m\n\u001b[1;32m      5\u001b[0m     \u001b[0;32mfor\u001b[0m \u001b[0m_\u001b[0m \u001b[0;32min\u001b[0m \u001b[0mrange\u001b[0m\u001b[0;34m(\u001b[0m\u001b[0mnumEjecuciones\u001b[0m\u001b[0;34m)\u001b[0m\u001b[0;34m:\u001b[0m\u001b[0;34m\u001b[0m\u001b[0;34m\u001b[0m\u001b[0m\n\u001b[1;32m      6\u001b[0m \u001b[0;34m\u001b[0m\u001b[0m\n\u001b[0;32m----> 7\u001b[0;31m         \u001b[0mq\u001b[0m \u001b[0;34m=\u001b[0m \u001b[0mhello_entangled_world\u001b[0m\u001b[0;34m(\u001b[0m\u001b[0meng\u001b[0m\u001b[0;34m)\u001b[0m\u001b[0;34m\u001b[0m\u001b[0;34m\u001b[0m\u001b[0m\n\u001b[0m\u001b[1;32m      8\u001b[0m \u001b[0;34m\u001b[0m\u001b[0m\n\u001b[1;32m      9\u001b[0m         \u001b[0mvalor\u001b[0m \u001b[0;34m=\u001b[0m \u001b[0mstr\u001b[0m\u001b[0;34m(\u001b[0m\u001b[0mint\u001b[0m\u001b[0;34m(\u001b[0m\u001b[0mq\u001b[0m\u001b[0;34m[\u001b[0m\u001b[0;36m0\u001b[0m\u001b[0;34m]\u001b[0m\u001b[0;34m)\u001b[0m\u001b[0;34m)\u001b[0m \u001b[0;34m+\u001b[0m \u001b[0mstr\u001b[0m\u001b[0;34m(\u001b[0m\u001b[0mint\u001b[0m\u001b[0;34m(\u001b[0m\u001b[0mq\u001b[0m\u001b[0;34m[\u001b[0m\u001b[0;36m1\u001b[0m\u001b[0;34m]\u001b[0m\u001b[0;34m)\u001b[0m\u001b[0;34m)\u001b[0m\u001b[0;34m\u001b[0m\u001b[0;34m\u001b[0m\u001b[0m\n",
      "\u001b[0;32m<ipython-input-1-03035d7d27b2>\u001b[0m in \u001b[0;36mhello_entangled_world\u001b[0;34m(eng)\u001b[0m\n\u001b[1;32m     11\u001b[0m     \u001b[0mAll\u001b[0m\u001b[0;34m(\u001b[0m\u001b[0mMeasure\u001b[0m\u001b[0;34m)\u001b[0m \u001b[0;34m|\u001b[0m \u001b[0mq\u001b[0m\u001b[0;34m\u001b[0m\u001b[0;34m\u001b[0m\u001b[0m\n\u001b[1;32m     12\u001b[0m \u001b[0;34m\u001b[0m\u001b[0m\n\u001b[0;32m---> 13\u001b[0;31m     \u001b[0meng\u001b[0m\u001b[0;34m.\u001b[0m\u001b[0mflush\u001b[0m\u001b[0;34m(\u001b[0m\u001b[0;34m)\u001b[0m\u001b[0;34m\u001b[0m\u001b[0;34m\u001b[0m\u001b[0m\n\u001b[0m\u001b[1;32m     14\u001b[0m \u001b[0;34m\u001b[0m\u001b[0m\n\u001b[1;32m     15\u001b[0m     \u001b[0;32mreturn\u001b[0m \u001b[0mq\u001b[0m\u001b[0;34m\u001b[0m\u001b[0;34m\u001b[0m\u001b[0m\n",
      "\u001b[0;32m~/.local/lib/python3.7/site-packages/projectq/cengines/_main.py\u001b[0m in \u001b[0;36mflush\u001b[0;34m(self, deallocate_qubits)\u001b[0m\n\u001b[1;32m    302\u001b[0m                 \u001b[0mqb\u001b[0m \u001b[0;34m=\u001b[0m \u001b[0mself\u001b[0m\u001b[0;34m.\u001b[0m\u001b[0mactive_qubits\u001b[0m\u001b[0;34m.\u001b[0m\u001b[0mpop\u001b[0m\u001b[0;34m(\u001b[0m\u001b[0;34m)\u001b[0m\u001b[0;34m\u001b[0m\u001b[0;34m\u001b[0m\u001b[0m\n\u001b[1;32m    303\u001b[0m                 \u001b[0mqb\u001b[0m\u001b[0;34m.\u001b[0m\u001b[0m__del__\u001b[0m\u001b[0;34m(\u001b[0m\u001b[0;34m)\u001b[0m\u001b[0;34m\u001b[0m\u001b[0;34m\u001b[0m\u001b[0m\n\u001b[0;32m--> 304\u001b[0;31m         \u001b[0mself\u001b[0m\u001b[0;34m.\u001b[0m\u001b[0mreceive\u001b[0m\u001b[0;34m(\u001b[0m\u001b[0;34m[\u001b[0m\u001b[0mCommand\u001b[0m\u001b[0;34m(\u001b[0m\u001b[0mself\u001b[0m\u001b[0;34m,\u001b[0m \u001b[0mFlushGate\u001b[0m\u001b[0;34m(\u001b[0m\u001b[0;34m)\u001b[0m\u001b[0;34m,\u001b[0m \u001b[0;34m(\u001b[0m\u001b[0;34m[\u001b[0m\u001b[0mWeakQubitRef\u001b[0m\u001b[0;34m(\u001b[0m\u001b[0mself\u001b[0m\u001b[0;34m,\u001b[0m \u001b[0;34m-\u001b[0m\u001b[0;36m1\u001b[0m\u001b[0;34m)\u001b[0m\u001b[0;34m]\u001b[0m\u001b[0;34m,\u001b[0m\u001b[0;34m)\u001b[0m\u001b[0;34m)\u001b[0m\u001b[0;34m]\u001b[0m\u001b[0;34m)\u001b[0m\u001b[0;34m\u001b[0m\u001b[0;34m\u001b[0m\u001b[0m\n\u001b[0m",
      "\u001b[0;32m~/.local/lib/python3.7/site-packages/projectq/cengines/_main.py\u001b[0m in \u001b[0;36mreceive\u001b[0;34m(self, command_list)\u001b[0m\n\u001b[1;32m    264\u001b[0m                 then send on)\n\u001b[1;32m    265\u001b[0m         \"\"\"\n\u001b[0;32m--> 266\u001b[0;31m         \u001b[0mself\u001b[0m\u001b[0;34m.\u001b[0m\u001b[0msend\u001b[0m\u001b[0;34m(\u001b[0m\u001b[0mcommand_list\u001b[0m\u001b[0;34m)\u001b[0m\u001b[0;34m\u001b[0m\u001b[0;34m\u001b[0m\u001b[0m\n\u001b[0m\u001b[1;32m    267\u001b[0m \u001b[0;34m\u001b[0m\u001b[0m\n\u001b[1;32m    268\u001b[0m     \u001b[0;32mdef\u001b[0m \u001b[0msend\u001b[0m\u001b[0;34m(\u001b[0m\u001b[0mself\u001b[0m\u001b[0;34m,\u001b[0m \u001b[0mcommand_list\u001b[0m\u001b[0;34m)\u001b[0m\u001b[0;34m:\u001b[0m\u001b[0;34m\u001b[0m\u001b[0;34m\u001b[0m\u001b[0m\n",
      "\u001b[0;32m~/.local/lib/python3.7/site-packages/projectq/cengines/_main.py\u001b[0m in \u001b[0;36msend\u001b[0;34m(self, command_list)\u001b[0m\n\u001b[1;32m    286\u001b[0m                                              \"\\n\" + repr(last_line[-2]))\n\u001b[1;32m    287\u001b[0m                 \u001b[0mcompact_exception\u001b[0m\u001b[0;34m.\u001b[0m\u001b[0m__cause__\u001b[0m \u001b[0;34m=\u001b[0m \u001b[0;32mNone\u001b[0m\u001b[0;34m\u001b[0m\u001b[0;34m\u001b[0m\u001b[0m\n\u001b[0;32m--> 288\u001b[0;31m                 \u001b[0;32mraise\u001b[0m \u001b[0mcompact_exception\u001b[0m  \u001b[0;31m# use verbose=True for more info\u001b[0m\u001b[0;34m\u001b[0m\u001b[0;34m\u001b[0m\u001b[0m\n\u001b[0m\u001b[1;32m    289\u001b[0m \u001b[0;34m\u001b[0m\u001b[0m\n\u001b[1;32m    290\u001b[0m     \u001b[0;32mdef\u001b[0m \u001b[0mflush\u001b[0m\u001b[0;34m(\u001b[0m\u001b[0mself\u001b[0m\u001b[0;34m,\u001b[0m \u001b[0mdeallocate_qubits\u001b[0m\u001b[0;34m=\u001b[0m\u001b[0;32mFalse\u001b[0m\u001b[0;34m)\u001b[0m\u001b[0;34m:\u001b[0m\u001b[0;34m\u001b[0m\u001b[0;34m\u001b[0m\u001b[0m\n",
      "\u001b[0;31mException\u001b[0m: Timeout. The ID of your submitted job is 5cf03a1aad82ea006e7ff613.\n raised in:\n'  File \"/home/carlos/.local/lib/python3.7/site-packages/projectq/backends/_ibm/_ibm_http_client.py\", line 194, in _get_result'\n'    .format(execution_id))'"
     ]
    }
   ],
   "source": [
    "import projectq.setups.ibm\n",
    "\n",
    "from projectq.backends import IBMBackend\n",
    "\n",
    "eng = projectq.MainEngine(IBMBackend(use_hardware=True, \n",
    "                                     num_runs=1024,verbose=True, \n",
    "                                     device='ibmqx4',\n",
    "                                     num_retries=30),\n",
    "                          engine_list = projectq.setups.ibm.get_engine_list())\n",
    "\n",
    "circuito1(1000)"
   ]
  },
  {
   "cell_type": "markdown",
   "metadata": {},
   "source": [
    "4) Accediendo directamente a la función de onda, calcula las amplitudes y las probabilidades de cada uno de los estados de la base computacional."
   ]
  },
  {
   "cell_type": "code",
   "execution_count": 6,
   "metadata": {},
   "outputs": [
    {
     "ename": "AttributeError",
     "evalue": "'IBMBackend' object has no attribute 'get_amplitude'",
     "output_type": "error",
     "traceback": [
      "\u001b[0;31m---------------------------------------------------------------------------\u001b[0m",
      "\u001b[0;31mAttributeError\u001b[0m                            Traceback (most recent call last)",
      "\u001b[0;32m<ipython-input-6-074ae32de4ae>\u001b[0m in \u001b[0;36m<module>\u001b[0;34m\u001b[0m\n\u001b[1;32m      3\u001b[0m \u001b[0;34m\u001b[0m\u001b[0m\n\u001b[1;32m      4\u001b[0m \u001b[0;32mfor\u001b[0m \u001b[0mval\u001b[0m \u001b[0;32min\u001b[0m \u001b[0;34m[\u001b[0m\u001b[0;34m'00'\u001b[0m\u001b[0;34m,\u001b[0m\u001b[0;34m'01'\u001b[0m\u001b[0;34m,\u001b[0m \u001b[0;34m'10'\u001b[0m\u001b[0;34m,\u001b[0m \u001b[0;34m'11'\u001b[0m\u001b[0;34m]\u001b[0m\u001b[0;34m:\u001b[0m\u001b[0;34m\u001b[0m\u001b[0;34m\u001b[0m\u001b[0m\n\u001b[0;32m----> 5\u001b[0;31m     \u001b[0mamp\u001b[0m\u001b[0;34m[\u001b[0m\u001b[0mval\u001b[0m\u001b[0;34m]\u001b[0m  \u001b[0;34m=\u001b[0m \u001b[0meng\u001b[0m\u001b[0;34m.\u001b[0m\u001b[0mbackend\u001b[0m\u001b[0;34m.\u001b[0m\u001b[0mget_amplitude\u001b[0m\u001b[0;34m(\u001b[0m\u001b[0mval\u001b[0m\u001b[0;34m,\u001b[0m\u001b[0mqubit\u001b[0m\u001b[0;34m)\u001b[0m\u001b[0;34m\u001b[0m\u001b[0;34m\u001b[0m\u001b[0m\n\u001b[0m\u001b[1;32m      6\u001b[0m     \u001b[0mprob\u001b[0m\u001b[0;34m[\u001b[0m\u001b[0mval\u001b[0m\u001b[0;34m]\u001b[0m \u001b[0;34m=\u001b[0m \u001b[0meng\u001b[0m\u001b[0;34m.\u001b[0m\u001b[0mbackend\u001b[0m\u001b[0;34m.\u001b[0m\u001b[0mget_probability\u001b[0m\u001b[0;34m(\u001b[0m\u001b[0mval\u001b[0m\u001b[0;34m,\u001b[0m\u001b[0mqubit\u001b[0m\u001b[0;34m)\u001b[0m\u001b[0;34m\u001b[0m\u001b[0;34m\u001b[0m\u001b[0m\n\u001b[1;32m      7\u001b[0m \u001b[0;34m\u001b[0m\u001b[0m\n",
      "\u001b[0;31mAttributeError\u001b[0m: 'IBMBackend' object has no attribute 'get_amplitude'"
     ]
    }
   ],
   "source": [
    "amp = {}\n",
    "prob = {}\n",
    "\n",
    "for val in ['00','01', '10', '11']:\n",
    "    amp[val]  = eng.backend.get_amplitude(val,qubit)\n",
    "    prob[val] = eng.backend.get_probability(val,qubit)\n",
    "    \n",
    "print('Amplitudes:', amp)\n",
    "print('Probabilidades', prob)"
   ]
  },
  {
   "cell_type": "markdown",
   "metadata": {},
   "source": [
    "**Resultado**: No se puede acceder a la función de onda en el ordenador cuántico real"
   ]
  },
  {
   "cell_type": "markdown",
   "metadata": {},
   "source": [
    "5) ¿Crees que podrías diseñar un circuito que entrelazara 3 qubits de forma que su estado fuera $\\frac{1}{\\sqrt{2}}(|000\\rangle+|111\\rangle)$? "
   ]
  },
  {
   "cell_type": "markdown",
   "metadata": {
    "collapsed": true
   },
   "source": [
    "Sí, pondría una puerta H en el primer qubit para obtener el $1/\\sqrt(2)$ y luego lo entrelazaría con los otros dos qubits (mediante dos puertas CNOT)."
   ]
  },
  {
   "cell_type": "markdown",
   "metadata": {},
   "source": [
    "6) Comprueba la siguiente equivalencia de puertas $$ Z = H X H$$\n",
    "\n",
    "Para ello, ten en cuenta que es necesario y suficiente comprobar que dan el mismo resultado (obtienen el mismo estado, no sólo las mismas probabilidades) para los valores iniciales del qubit $|0\\rangle$ y $|1\\rangle$."
   ]
  },
  {
   "cell_type": "code",
   "execution_count": 32,
   "metadata": {},
   "outputs": [
    {
     "name": "stdout",
     "output_type": "stream",
     "text": [
      "Z con qubit 0:\n",
      "   Frecuencia 0: 1.0\n",
      "   Frecuencia 1: 0.0\n",
      "HXH con qubit 0: \n",
      "   Frecuencia 0: 1.0\n",
      "   Frecuencia 1: 0.0\n",
      "Z con qubit 1: \n",
      "   Frecuencia 0: 0.0\n",
      "   Frecuencia 1: 1.0\n",
      "HXH con qubit 1: \n",
      "   Frecuencia 0: 0.0\n",
      "   Frecuencia 1: 1.0\n",
      "\n",
      "¿Son circuitos equivalentes? True\n"
     ]
    }
   ],
   "source": [
    "numEjecuciones = 100\n",
    "\n",
    "resultadosZ0 = {\"0\":0, \"1\":0}\n",
    "resultadosZ1 = {\"0\":0, \"1\":0}    \n",
    "resultadosH0 = {\"0\":0, \"1\":0}\n",
    "resultadosH1 = {\"0\":0, \"1\":0}\n",
    "    \n",
    "# Z con qubit 0\n",
    "eng = projectq.MainEngine()\n",
    "\n",
    "for _ in range(numEjecuciones):\n",
    " \n",
    "    q = eng.allocate_qureg(1)\n",
    "    \n",
    "    Z | q[0]\n",
    "\n",
    "    All(Measure) | q\n",
    "    \n",
    "    eng.flush()\n",
    "    \n",
    "    resultadosZ0[str(int(q[0]))] += 1\n",
    "    \n",
    "# Z con qubit 1    \n",
    "eng = projectq.MainEngine()\n",
    "    \n",
    "for _ in range(numEjecuciones):\n",
    "\n",
    "    q = eng.allocate_qureg(1)\n",
    "    \n",
    "    X | q[0] # Poner el qubit a 1\n",
    "    Z | q[0]\n",
    "\n",
    "    All(Measure) | q\n",
    "    \n",
    "    eng.flush()\n",
    "    \n",
    "    resultadosZ1[str(int(q[0]))] += 1\n",
    "    \n",
    "# HXH con qubit 0\n",
    "eng = projectq.MainEngine()\n",
    "\n",
    "for _ in range(numEjecuciones):\n",
    "\n",
    "    q = eng.allocate_qureg(1)\n",
    "\n",
    "    H | q[0]\n",
    "    X | q[0]\n",
    "    H | q[0]\n",
    "\n",
    "    All(Measure) | q\n",
    "    \n",
    "    eng.flush()\n",
    "    \n",
    "    resultadosH0[str(int(q[0]))] += 1\n",
    "\n",
    "# HXH con qubit 1\n",
    "eng = projectq.MainEngine()\n",
    "    \n",
    "for _ in range(numEjecuciones):    \n",
    "\n",
    "\n",
    "    q = eng.allocate_qureg(1)\n",
    "\n",
    "    X | q[0] # Poner el qubit a 1\n",
    "    H | q[0]\n",
    "    X | q[0]\n",
    "    H | q[0]\n",
    "\n",
    "    All(Measure) | q\n",
    "    \n",
    "    eng.flush()\n",
    "    \n",
    "    resultadosH1[str(int(q[0]))] += 1\n",
    "\n",
    "print(\"Z con qubit 0:\")\n",
    "print(\"   Frecuencia 0: \" + str(resultadosZ0[\"0\"]/numEjecuciones))\n",
    "print(\"   Frecuencia 1: \" + str(resultadosZ0[\"1\"]/numEjecuciones))\n",
    "print(\"HXH con qubit 0: \")\n",
    "print(\"   Frecuencia 0: \" + str(resultadosH0[\"0\"]/numEjecuciones))\n",
    "print(\"   Frecuencia 1: \" + str(resultadosH0[\"1\"]/numEjecuciones))\n",
    "print(\"Z con qubit 1: \")\n",
    "print(\"   Frecuencia 0: \" + str(resultadosZ1[\"0\"]/numEjecuciones))\n",
    "print(\"   Frecuencia 1: \" + str(resultadosZ1[\"1\"]/numEjecuciones))\n",
    "print(\"HXH con qubit 1: \")\n",
    "print(\"   Frecuencia 0: \" + str(resultadosH1[\"0\"]/numEjecuciones))\n",
    "print(\"   Frecuencia 1: \" + str(resultadosH1[\"1\"]/numEjecuciones))\n",
    "print()\n",
    "print(\"¿Son circuitos equivalentes? \" + str(resultadosZ0 == resultadosH0 and resultadosZ1 == resultadosH1))"
   ]
  },
  {
   "cell_type": "markdown",
   "metadata": {},
   "source": [
    "7) Comprueba también la siguiente equivalencia de puertas $$S^\\dagger = S S S$$"
   ]
  },
  {
   "cell_type": "code",
   "execution_count": 33,
   "metadata": {},
   "outputs": [
    {
     "name": "stdout",
     "output_type": "stream",
     "text": [
      "Sdaga con qubit 0:\n",
      "   Frecuencia 0: 1.0\n",
      "   Frecuencia 1: 0.0\n",
      "SSS con qubit 0: \n",
      "   Frecuencia 0: 1.0\n",
      "   Frecuencia 1: 0.0\n",
      "Sdaga con qubit 1: \n",
      "   Frecuencia 0: 0.0\n",
      "   Frecuencia 1: 1.0\n",
      "SSS con qubit 1: \n",
      "   Frecuencia 0: 0.0\n",
      "   Frecuencia 1: 1.0\n",
      "\n",
      "¿Son circuitos equivalentes? True\n"
     ]
    }
   ],
   "source": [
    "numEjecuciones = 100\n",
    "\n",
    "resultadosd0 = {\"0\":0, \"1\":0}\n",
    "resultadosd1 = {\"0\":0, \"1\":0}    \n",
    "resultados30 = {\"0\":0, \"1\":0}\n",
    "resultados31 = {\"0\":0, \"1\":0}\n",
    "    \n",
    "# Sdaga con qubit 0\n",
    "eng = projectq.MainEngine()\n",
    "\n",
    "for _ in range(numEjecuciones):\n",
    " \n",
    "    q = eng.allocate_qureg(1)\n",
    "    \n",
    "    get_inverse(S) | q[0]\n",
    "\n",
    "    All(Measure) | q\n",
    "    \n",
    "    eng.flush()\n",
    "    \n",
    "    resultadosd0[str(int(q[0]))] += 1\n",
    "    \n",
    "# Sdaga con qubit 1    \n",
    "eng = projectq.MainEngine()\n",
    "    \n",
    "for _ in range(numEjecuciones):\n",
    "\n",
    "    q = eng.allocate_qureg(1)\n",
    "    \n",
    "    X | q[0] # Poner el qubit a 1\n",
    "    get_inverse(S) | q[0]\n",
    "\n",
    "    All(Measure) | q\n",
    "    \n",
    "    eng.flush()\n",
    "    \n",
    "    resultadosd1[str(int(q[0]))] += 1\n",
    "    \n",
    "# SSS con qubit 0\n",
    "eng = projectq.MainEngine()\n",
    "\n",
    "for _ in range(numEjecuciones):\n",
    "\n",
    "    q = eng.allocate_qureg(1)\n",
    "\n",
    "    S | q[0]\n",
    "    S | q[0]\n",
    "    S | q[0]\n",
    "\n",
    "    All(Measure) | q\n",
    "    \n",
    "    eng.flush()\n",
    "    \n",
    "    resultados30[str(int(q[0]))] += 1\n",
    "\n",
    "# SSS con qubit 1\n",
    "eng = projectq.MainEngine()\n",
    "    \n",
    "for _ in range(numEjecuciones):    \n",
    "\n",
    "\n",
    "    q = eng.allocate_qureg(1)\n",
    "\n",
    "    X | q[0] # Poner el qubit a 1\n",
    "    S | q[0]\n",
    "    S | q[0]\n",
    "    S | q[0]\n",
    "\n",
    "    All(Measure) | q\n",
    "    \n",
    "    eng.flush()\n",
    "    \n",
    "    resultados31[str(int(q[0]))] += 1\n",
    "\n",
    "print(\"Sdaga con qubit 0:\")\n",
    "print(\"   Frecuencia 0: \" + str(resultadosd0[\"0\"]/numEjecuciones))\n",
    "print(\"   Frecuencia 1: \" + str(resultadosd0[\"1\"]/numEjecuciones))\n",
    "print(\"SSS con qubit 0: \")\n",
    "print(\"   Frecuencia 0: \" + str(resultados30[\"0\"]/numEjecuciones))\n",
    "print(\"   Frecuencia 1: \" + str(resultados30[\"1\"]/numEjecuciones))\n",
    "print(\"Sdaga con qubit 1: \")\n",
    "print(\"   Frecuencia 0: \" + str(resultadosd1[\"0\"]/numEjecuciones))\n",
    "print(\"   Frecuencia 1: \" + str(resultadosd1[\"1\"]/numEjecuciones))\n",
    "print(\"SSS con qubit 1: \")\n",
    "print(\"   Frecuencia 0: \" + str(resultados31[\"0\"]/numEjecuciones))\n",
    "print(\"   Frecuencia 1: \" + str(resultados31[\"1\"]/numEjecuciones))\n",
    "print()\n",
    "print(\"¿Son circuitos equivalentes? \" + str(resultadosd0 == resultados30 and resultadosd1 == resultados31))"
   ]
  },
  {
   "cell_type": "markdown",
   "metadata": {},
   "source": [
    "8) ¿Qué función calcula el circuito de la figura? Ten en cuenta que ahora hay cuatro posibles valores iniciales para los qubits: $|00\\rangle,|01\\rangle,|10\\rangle$ y $|11\\rangle$.\n",
    "\n",
    "<img src=\"circuito8.png\" width=50%>"
   ]
  },
  {
   "cell_type": "code",
   "execution_count": 38,
   "metadata": {},
   "outputs": [
    {
     "name": "stdout",
     "output_type": "stream",
     "text": [
      "qubits 00:\n",
      "   Frecuencia 00: 1.0\n",
      "   Frecuencia 01: 0.0\n",
      "   Frecuencia 10: 0.0\n",
      "   Frecuencia 11: 0.0\n",
      "qubits 01: \n",
      "   Frecuencia 00: 0.0\n",
      "   Frecuencia 01: 0.0\n",
      "   Frecuencia 10: 1.0\n",
      "   Frecuencia 11: 0.0\n",
      "qubits 10: \n",
      "   Frecuencia 00: 0.0\n",
      "   Frecuencia 01: 1.0\n",
      "   Frecuencia 10: 0.0\n",
      "   Frecuencia 11: 0.0\n",
      "qubits 11: \n",
      "   Frecuencia 00: 0.0\n",
      "   Frecuencia 01: 0.0\n",
      "   Frecuencia 10: 0.0\n",
      "   Frecuencia 11: 1.0\n"
     ]
    }
   ],
   "source": [
    "numEjecuciones = 100\n",
    "\n",
    "resultados00 = {\"00\":0, \"01\":0, \"10\":0, \"11\":0}\n",
    "resultados01 = {\"00\":0, \"01\":0, \"10\":0, \"11\":0}    \n",
    "resultados10 = {\"00\":0, \"01\":0, \"10\":0, \"11\":0}\n",
    "resultados11 = {\"00\":0, \"01\":0, \"10\":0, \"11\":0}\n",
    "    \n",
    "# qubits 00\n",
    "eng = projectq.MainEngine()\n",
    "\n",
    "for _ in range(numEjecuciones):\n",
    " \n",
    "    q = eng.allocate_qureg(2)\n",
    "    \n",
    "    CNOT | (q[0],q[1])\n",
    "    CNOT | (q[1],q[0])\n",
    "    CNOT | (q[0],q[1])\n",
    "\n",
    "    All(Measure) | q\n",
    "    \n",
    "    eng.flush()\n",
    "    \n",
    "    resultados00[str(int(q[0])) + str(int(q[1]))] += 1\n",
    "    \n",
    "# qubits 01  \n",
    "eng = projectq.MainEngine()\n",
    "    \n",
    "for _ in range(numEjecuciones):\n",
    "\n",
    "    q = eng.allocate_qureg(2)\n",
    "    \n",
    "    X | q[1] # Poner el qubit a 1\n",
    "    CNOT | (q[0],q[1])\n",
    "    CNOT | (q[1],q[0])\n",
    "    CNOT | (q[0],q[1])\n",
    "\n",
    "    All(Measure) | q\n",
    "    \n",
    "    eng.flush()\n",
    "    \n",
    "    resultados01[str(int(q[0])) + str(int(q[1]))] += 1\n",
    "    \n",
    "# qubits 10\n",
    "eng = projectq.MainEngine()\n",
    "\n",
    "for _ in range(numEjecuciones):\n",
    "\n",
    "    q = eng.allocate_qureg(2)\n",
    "\n",
    "    X | q[0] # Poner el qubit a 1\n",
    "    CNOT | (q[0],q[1])\n",
    "    CNOT | (q[1],q[0])\n",
    "    CNOT | (q[0],q[1])\n",
    "\n",
    "    All(Measure) | q\n",
    "    \n",
    "    eng.flush()\n",
    "    \n",
    "    resultados10[str(int(q[0])) + str(int(q[1]))] += 1\n",
    "\n",
    "# qubits 11\n",
    "eng = projectq.MainEngine()\n",
    "    \n",
    "for _ in range(numEjecuciones):    \n",
    "\n",
    "\n",
    "    q = eng.allocate_qureg(2)\n",
    "\n",
    "    X | q[0] # Poner el qubit a 1\n",
    "    X | q[1] # Poner el qubit a 1\n",
    "    CNOT | (q[0],q[1])\n",
    "    CNOT | (q[1],q[0])\n",
    "    CNOT | (q[0],q[1])\n",
    "\n",
    "    All(Measure) | q\n",
    "    \n",
    "    eng.flush()\n",
    "    \n",
    "    resultados11[str(int(q[0])) + str(int(q[1]))] += 1\n",
    "\n",
    "print(\"qubits 00:\")\n",
    "print(\"   Frecuencia 00: \" + str(resultados00[\"00\"]/numEjecuciones))\n",
    "print(\"   Frecuencia 01: \" + str(resultados00[\"01\"]/numEjecuciones))\n",
    "print(\"   Frecuencia 10: \" + str(resultados00[\"01\"]/numEjecuciones))\n",
    "print(\"   Frecuencia 11: \" + str(resultados00[\"01\"]/numEjecuciones))\n",
    "print(\"qubits 01: \")\n",
    "print(\"   Frecuencia 00: \" + str(resultados01[\"00\"]/numEjecuciones))\n",
    "print(\"   Frecuencia 01: \" + str(resultados01[\"01\"]/numEjecuciones))\n",
    "print(\"   Frecuencia 10: \" + str(resultados01[\"10\"]/numEjecuciones))\n",
    "print(\"   Frecuencia 11: \" + str(resultados01[\"11\"]/numEjecuciones))\n",
    "print(\"qubits 10: \")\n",
    "print(\"   Frecuencia 00: \" + str(resultados10[\"00\"]/numEjecuciones))\n",
    "print(\"   Frecuencia 01: \" + str(resultados10[\"01\"]/numEjecuciones))\n",
    "print(\"   Frecuencia 10: \" + str(resultados10[\"10\"]/numEjecuciones))\n",
    "print(\"   Frecuencia 11: \" + str(resultados10[\"11\"]/numEjecuciones))\n",
    "print(\"qubits 11: \")\n",
    "print(\"   Frecuencia 00: \" + str(resultados11[\"00\"]/numEjecuciones))\n",
    "print(\"   Frecuencia 01: \" + str(resultados11[\"01\"]/numEjecuciones))\n",
    "print(\"   Frecuencia 10: \" + str(resultados11[\"10\"]/numEjecuciones))\n",
    "print(\"   Frecuencia 11: \" + str(resultados11[\"11\"]/numEjecuciones))"
   ]
  },
  {
   "cell_type": "markdown",
   "metadata": {},
   "source": [
    "**Resultado**: A la vista de los resultados, la función que calcula el circuito es tal que siempre obtiene como salida el valor de la entrada en caso de que el valor inicial de ambos qubits sea igual y se comporta como una puerta X para ambos qubits, en caso contrario."
   ]
  },
  {
   "cell_type": "markdown",
   "metadata": {},
   "source": [
    "9) Determina qué función es calculada por el circuito de la figura. De nuevo, hay cuatro posibles valores iniciales para los qubits.\n",
    "\n",
    "<img src=\"circuito9.png\" width=50%>"
   ]
  },
  {
   "cell_type": "code",
   "execution_count": 39,
   "metadata": {},
   "outputs": [
    {
     "name": "stdout",
     "output_type": "stream",
     "text": [
      "qubits 00:\n",
      "   Frecuencia 00: 1.0\n",
      "   Frecuencia 01: 0.0\n",
      "   Frecuencia 10: 0.0\n",
      "   Frecuencia 11: 0.0\n",
      "qubits 01: \n",
      "   Frecuencia 00: 0.0\n",
      "   Frecuencia 01: 1.0\n",
      "   Frecuencia 10: 0.0\n",
      "   Frecuencia 11: 0.0\n",
      "qubits 10: \n",
      "   Frecuencia 00: 0.0\n",
      "   Frecuencia 01: 0.0\n",
      "   Frecuencia 10: 0.0\n",
      "   Frecuencia 11: 1.0\n",
      "qubits 11: \n",
      "   Frecuencia 00: 0.0\n",
      "   Frecuencia 01: 0.0\n",
      "   Frecuencia 10: 1.0\n",
      "   Frecuencia 11: 0.0\n"
     ]
    }
   ],
   "source": [
    "numEjecuciones = 100\n",
    "\n",
    "resultados00 = {\"00\":0, \"01\":0, \"10\":0, \"11\":0}\n",
    "resultados01 = {\"00\":0, \"01\":0, \"10\":0, \"11\":0}    \n",
    "resultados10 = {\"00\":0, \"01\":0, \"10\":0, \"11\":0}\n",
    "resultados11 = {\"00\":0, \"01\":0, \"10\":0, \"11\":0}\n",
    "    \n",
    "# qubits 00\n",
    "eng = projectq.MainEngine()\n",
    "\n",
    "for _ in range(numEjecuciones):\n",
    " \n",
    "    q = eng.allocate_qureg(2)\n",
    "    \n",
    "    All(H) | q \n",
    "    CNOT | (q[1],q[0])\n",
    "    All(H) | q \n",
    "\n",
    "    All(Measure) | q\n",
    "    \n",
    "    eng.flush()\n",
    "    \n",
    "    resultados00[str(int(q[0])) + str(int(q[1]))] += 1\n",
    "    \n",
    "# qubits 01  \n",
    "eng = projectq.MainEngine()\n",
    "    \n",
    "for _ in range(numEjecuciones):\n",
    "\n",
    "    q = eng.allocate_qureg(2)\n",
    "    \n",
    "    X | q[1] # Poner el qubit a 1\n",
    "    All(H) | q \n",
    "    CNOT | (q[1],q[0])\n",
    "    All(H) | q \n",
    "\n",
    "    All(Measure) | q\n",
    "    \n",
    "    eng.flush()\n",
    "    \n",
    "    resultados01[str(int(q[0])) + str(int(q[1]))] += 1\n",
    "    \n",
    "# qubits 10\n",
    "eng = projectq.MainEngine()\n",
    "\n",
    "for _ in range(numEjecuciones):\n",
    "\n",
    "    q = eng.allocate_qureg(2)\n",
    "\n",
    "    X | q[0] # Poner el qubit a 1\n",
    "    All(H) | q \n",
    "    CNOT | (q[1],q[0])\n",
    "    All(H) | q \n",
    "\n",
    "    All(Measure) | q\n",
    "    \n",
    "    eng.flush()\n",
    "    \n",
    "    resultados10[str(int(q[0])) + str(int(q[1]))] += 1\n",
    "\n",
    "# qubits 11\n",
    "eng = projectq.MainEngine()\n",
    "    \n",
    "for _ in range(numEjecuciones):    \n",
    "\n",
    "\n",
    "    q = eng.allocate_qureg(2)\n",
    "\n",
    "    X | q[0] # Poner el qubit a 1\n",
    "    X | q[1] # Poner el qubit a 1\n",
    "    All(H) | q \n",
    "    CNOT | (q[1],q[0])\n",
    "    All(H) | q\n",
    "\n",
    "    All(Measure) | q\n",
    "    \n",
    "    eng.flush()\n",
    "    \n",
    "    resultados11[str(int(q[0])) + str(int(q[1]))] += 1\n",
    "\n",
    "print(\"qubits 00:\")\n",
    "print(\"   Frecuencia 00: \" + str(resultados00[\"00\"]/numEjecuciones))\n",
    "print(\"   Frecuencia 01: \" + str(resultados00[\"01\"]/numEjecuciones))\n",
    "print(\"   Frecuencia 10: \" + str(resultados00[\"01\"]/numEjecuciones))\n",
    "print(\"   Frecuencia 11: \" + str(resultados00[\"01\"]/numEjecuciones))\n",
    "print(\"qubits 01: \")\n",
    "print(\"   Frecuencia 00: \" + str(resultados01[\"00\"]/numEjecuciones))\n",
    "print(\"   Frecuencia 01: \" + str(resultados01[\"01\"]/numEjecuciones))\n",
    "print(\"   Frecuencia 10: \" + str(resultados01[\"10\"]/numEjecuciones))\n",
    "print(\"   Frecuencia 11: \" + str(resultados01[\"11\"]/numEjecuciones))\n",
    "print(\"qubits 10: \")\n",
    "print(\"   Frecuencia 00: \" + str(resultados10[\"00\"]/numEjecuciones))\n",
    "print(\"   Frecuencia 01: \" + str(resultados10[\"01\"]/numEjecuciones))\n",
    "print(\"   Frecuencia 10: \" + str(resultados10[\"10\"]/numEjecuciones))\n",
    "print(\"   Frecuencia 11: \" + str(resultados10[\"11\"]/numEjecuciones))\n",
    "print(\"qubits 11: \")\n",
    "print(\"   Frecuencia 00: \" + str(resultados11[\"00\"]/numEjecuciones))\n",
    "print(\"   Frecuencia 01: \" + str(resultados11[\"01\"]/numEjecuciones))\n",
    "print(\"   Frecuencia 10: \" + str(resultados11[\"10\"]/numEjecuciones))\n",
    "print(\"   Frecuencia 11: \" + str(resultados11[\"11\"]/numEjecuciones))"
   ]
  },
  {
   "cell_type": "markdown",
   "metadata": {},
   "source": [
    "**Resultado**: A la vista de los resultados, la función que calcula el circuito es tal que siempre obtiene como salida el valor de la entrada en caso de que el valor inicial del primer qubit sea 0 y se comporta como una puerta X para ambos qubits, en caso contrario."
   ]
  },
  {
   "cell_type": "markdown",
   "metadata": {},
   "source": [
    "10) Comprueba que el circuito de la figura es equivalente a una puerta de Toffoli (ahora el número de posibles valores inciales que debes comprobar es 8, porque hay tres qubits). \n",
    "\n",
    "<img src=\"toffoli.png\" width=80%>"
   ]
  },
  {
   "cell_type": "code",
   "execution_count": 12,
   "metadata": {},
   "outputs": [],
   "source": [
    "#dejar xa el final\n",
    "#hay q poner 8x8 prints\n",
    "#la de toffoli se pasa q2,q1,q0\n",
    "#q2,q1 control\n",
    "#q0 controlado\n",
    "#en el dibujo controlado es q0\n",
    "#mirar lo q apuntaste en la libreta"
   ]
  },
  {
   "cell_type": "markdown",
   "metadata": {},
   "source": [
    "11) Crea un circuito con una sola puerta de Toffoli. Si lo lanzas a ejecutar en IBM Quantum Experience, ¿en qué puertas se transforma?"
   ]
  },
  {
   "cell_type": "code",
   "execution_count": 41,
   "metadata": {},
   "outputs": [
    {
     "name": "stdout",
     "output_type": "stream",
     "text": [
      "- Authenticating...\n",
      "IBM QE user (e-mail) > carlosgarciagutierrez@yahoo.com\n",
      "IBM QE password > ········\n",
      "- Running code: \n",
      "include \"qelib1.inc\";\n",
      "qreg q[3];\n",
      "creg c[3];\n",
      "h q[0];\n",
      "cx q[1], q[0];\n",
      "t q[1];\n",
      "tdg q[0];\n",
      "cx q[2], q[0];\n",
      "cx q[2], q[1];\n",
      "tdg q[1];\n",
      "cx q[2], q[1];\n",
      "t q[0];\n",
      "cx q[1], q[0];\n",
      "tdg q[0];\n",
      "cx q[2], q[0];\n",
      "t q[2];\n",
      "t q[0];\n",
      "h q[0];\n",
      "measure q[1] -> c[1];\n",
      "measure q[2] -> c[2];\n",
      "measure q[0] -> c[0];\n",
      "- Waiting for results...\n",
      "Waiting for results. [Job ID: 5cf05bc2352bc60072ba4489]\n",
      "Currently there are 2 jobs queued for execution on ibmqx4.\n"
     ]
    },
    {
     "ename": "Exception",
     "evalue": "Timeout. The ID of your submitted job is 5cf05bc2352bc60072ba4489.\n raised in:\n'  File \"/home/carlos/.local/lib/python3.7/site-packages/projectq/backends/_ibm/_ibm_http_client.py\", line 194, in _get_result'\n'    .format(execution_id))'",
     "output_type": "error",
     "traceback": [
      "\u001b[0;31m---------------------------------------------------------------------------\u001b[0m",
      "\u001b[0;31mException\u001b[0m                                 Traceback (most recent call last)",
      "\u001b[0;32m<ipython-input-41-336d46a430b6>\u001b[0m in \u001b[0;36m<module>\u001b[0;34m\u001b[0m\n\u001b[1;32m     11\u001b[0m \u001b[0mAll\u001b[0m\u001b[0;34m(\u001b[0m\u001b[0mMeasure\u001b[0m\u001b[0;34m)\u001b[0m \u001b[0;34m|\u001b[0m \u001b[0mq\u001b[0m\u001b[0;34m\u001b[0m\u001b[0;34m\u001b[0m\u001b[0m\n\u001b[1;32m     12\u001b[0m \u001b[0;34m\u001b[0m\u001b[0m\n\u001b[0;32m---> 13\u001b[0;31m \u001b[0meng\u001b[0m\u001b[0;34m.\u001b[0m\u001b[0mflush\u001b[0m\u001b[0;34m(\u001b[0m\u001b[0;34m)\u001b[0m\u001b[0;34m\u001b[0m\u001b[0;34m\u001b[0m\u001b[0m\n\u001b[0m",
      "\u001b[0;32m~/.local/lib/python3.7/site-packages/projectq/cengines/_main.py\u001b[0m in \u001b[0;36mflush\u001b[0;34m(self, deallocate_qubits)\u001b[0m\n\u001b[1;32m    302\u001b[0m                 \u001b[0mqb\u001b[0m \u001b[0;34m=\u001b[0m \u001b[0mself\u001b[0m\u001b[0;34m.\u001b[0m\u001b[0mactive_qubits\u001b[0m\u001b[0;34m.\u001b[0m\u001b[0mpop\u001b[0m\u001b[0;34m(\u001b[0m\u001b[0;34m)\u001b[0m\u001b[0;34m\u001b[0m\u001b[0;34m\u001b[0m\u001b[0m\n\u001b[1;32m    303\u001b[0m                 \u001b[0mqb\u001b[0m\u001b[0;34m.\u001b[0m\u001b[0m__del__\u001b[0m\u001b[0;34m(\u001b[0m\u001b[0;34m)\u001b[0m\u001b[0;34m\u001b[0m\u001b[0;34m\u001b[0m\u001b[0m\n\u001b[0;32m--> 304\u001b[0;31m         \u001b[0mself\u001b[0m\u001b[0;34m.\u001b[0m\u001b[0mreceive\u001b[0m\u001b[0;34m(\u001b[0m\u001b[0;34m[\u001b[0m\u001b[0mCommand\u001b[0m\u001b[0;34m(\u001b[0m\u001b[0mself\u001b[0m\u001b[0;34m,\u001b[0m \u001b[0mFlushGate\u001b[0m\u001b[0;34m(\u001b[0m\u001b[0;34m)\u001b[0m\u001b[0;34m,\u001b[0m \u001b[0;34m(\u001b[0m\u001b[0;34m[\u001b[0m\u001b[0mWeakQubitRef\u001b[0m\u001b[0;34m(\u001b[0m\u001b[0mself\u001b[0m\u001b[0;34m,\u001b[0m \u001b[0;34m-\u001b[0m\u001b[0;36m1\u001b[0m\u001b[0;34m)\u001b[0m\u001b[0;34m]\u001b[0m\u001b[0;34m,\u001b[0m\u001b[0;34m)\u001b[0m\u001b[0;34m)\u001b[0m\u001b[0;34m]\u001b[0m\u001b[0;34m)\u001b[0m\u001b[0;34m\u001b[0m\u001b[0;34m\u001b[0m\u001b[0m\n\u001b[0m",
      "\u001b[0;32m~/.local/lib/python3.7/site-packages/projectq/cengines/_main.py\u001b[0m in \u001b[0;36mreceive\u001b[0;34m(self, command_list)\u001b[0m\n\u001b[1;32m    264\u001b[0m                 then send on)\n\u001b[1;32m    265\u001b[0m         \"\"\"\n\u001b[0;32m--> 266\u001b[0;31m         \u001b[0mself\u001b[0m\u001b[0;34m.\u001b[0m\u001b[0msend\u001b[0m\u001b[0;34m(\u001b[0m\u001b[0mcommand_list\u001b[0m\u001b[0;34m)\u001b[0m\u001b[0;34m\u001b[0m\u001b[0;34m\u001b[0m\u001b[0m\n\u001b[0m\u001b[1;32m    267\u001b[0m \u001b[0;34m\u001b[0m\u001b[0m\n\u001b[1;32m    268\u001b[0m     \u001b[0;32mdef\u001b[0m \u001b[0msend\u001b[0m\u001b[0;34m(\u001b[0m\u001b[0mself\u001b[0m\u001b[0;34m,\u001b[0m \u001b[0mcommand_list\u001b[0m\u001b[0;34m)\u001b[0m\u001b[0;34m:\u001b[0m\u001b[0;34m\u001b[0m\u001b[0;34m\u001b[0m\u001b[0m\n",
      "\u001b[0;32m~/.local/lib/python3.7/site-packages/projectq/cengines/_main.py\u001b[0m in \u001b[0;36msend\u001b[0;34m(self, command_list)\u001b[0m\n\u001b[1;32m    286\u001b[0m                                              \"\\n\" + repr(last_line[-2]))\n\u001b[1;32m    287\u001b[0m                 \u001b[0mcompact_exception\u001b[0m\u001b[0;34m.\u001b[0m\u001b[0m__cause__\u001b[0m \u001b[0;34m=\u001b[0m \u001b[0;32mNone\u001b[0m\u001b[0;34m\u001b[0m\u001b[0;34m\u001b[0m\u001b[0m\n\u001b[0;32m--> 288\u001b[0;31m                 \u001b[0;32mraise\u001b[0m \u001b[0mcompact_exception\u001b[0m  \u001b[0;31m# use verbose=True for more info\u001b[0m\u001b[0;34m\u001b[0m\u001b[0;34m\u001b[0m\u001b[0m\n\u001b[0m\u001b[1;32m    289\u001b[0m \u001b[0;34m\u001b[0m\u001b[0m\n\u001b[1;32m    290\u001b[0m     \u001b[0;32mdef\u001b[0m \u001b[0mflush\u001b[0m\u001b[0;34m(\u001b[0m\u001b[0mself\u001b[0m\u001b[0;34m,\u001b[0m \u001b[0mdeallocate_qubits\u001b[0m\u001b[0;34m=\u001b[0m\u001b[0;32mFalse\u001b[0m\u001b[0;34m)\u001b[0m\u001b[0;34m:\u001b[0m\u001b[0;34m\u001b[0m\u001b[0;34m\u001b[0m\u001b[0m\n",
      "\u001b[0;31mException\u001b[0m: Timeout. The ID of your submitted job is 5cf05bc2352bc60072ba4489.\n raised in:\n'  File \"/home/carlos/.local/lib/python3.7/site-packages/projectq/backends/_ibm/_ibm_http_client.py\", line 194, in _get_result'\n'    .format(execution_id))'"
     ]
    }
   ],
   "source": [
    "eng = projectq.MainEngine(IBMBackend(use_hardware=True, \n",
    "                                     num_runs=1024,verbose=True, \n",
    "                                     device='ibmqx4',\n",
    "                                     num_retries=30),\n",
    "                          engine_list = projectq.setups.ibm.get_engine_list())\n",
    "    \n",
    "q = eng.allocate_qureg(3)\n",
    "\n",
    "Toffoli | (q[0],q[1],q[2])\n",
    "\n",
    "All(Measure) | q\n",
    "    \n",
    "eng.flush()"
   ]
  },
  {
   "cell_type": "markdown",
   "metadata": {},
   "source": [
    "**Resultado**: Se transforma en als siguientes puertas\n",
    "\n",
    "- H q[0]\n",
    "- CNOT q[1], q[0]\n",
    "- T q[1]\n",
    "- T daga q[0]\n",
    "- CNOT q[2], q[0];\n",
    "- CNOT q[2], q[1];\n",
    "- T daga q[1];\n",
    "- CNOT q[2], q[1];\n",
    "- T q[0];\n",
    "- CNOT q[1], q[0];\n",
    "- T daga q[0];\n",
    "- CNOT q[2], q[0];\n",
    "- T q[2];\n",
    "- T q[0];\n",
    "- H q[0];\n",
    "- Medir todos los qubits"
   ]
  },
  {
   "cell_type": "markdown",
   "metadata": {},
   "source": [
    "12) Comprobemos los límites del simulador de ProjectQ. Crea una función que reciba un parámetro $n$ entero y cree un circuito en el que se aplica la puerta $H$ a cada uno de los qubits y luego se aplica la puerta $CNOT$ a cada par de qubits consecutivos. Finalmente, se miden todos los qubits. ¿Cuál es el mayor $n$ para el que se puede ejecutar el circuito en el simulador?"
   ]
  },
  {
   "cell_type": "code",
   "execution_count": 11,
   "metadata": {},
   "outputs": [
    {
     "ename": "MemoryError",
     "evalue": "std::bad_alloc\n raised in:\n'  File \"/home/carlos/.local/lib/python3.7/site-packages/projectq/backends/_sim/_simulator.py\", line 382, in _handle'\n'    self._simulator.allocate_qubit(ID)'",
     "output_type": "error",
     "traceback": [
      "\u001b[0;31m---------------------------------------------------------------------------\u001b[0m",
      "\u001b[0;31mMemoryError\u001b[0m                               Traceback (most recent call last)",
      "\u001b[0;32m<ipython-input-11-31bf0b8e5850>\u001b[0m in \u001b[0;36m<module>\u001b[0;34m\u001b[0m\n\u001b[1;32m     18\u001b[0m \u001b[0meng\u001b[0m \u001b[0;34m=\u001b[0m \u001b[0mprojectq\u001b[0m\u001b[0;34m.\u001b[0m\u001b[0mMainEngine\u001b[0m\u001b[0;34m(\u001b[0m\u001b[0;34m)\u001b[0m\u001b[0;34m\u001b[0m\u001b[0;34m\u001b[0m\u001b[0m\n\u001b[1;32m     19\u001b[0m \u001b[0;34m\u001b[0m\u001b[0m\n\u001b[0;32m---> 20\u001b[0;31m \u001b[0mprint\u001b[0m\u001b[0;34m(\u001b[0m\u001b[0mto_the_limit\u001b[0m\u001b[0;34m(\u001b[0m\u001b[0meng\u001b[0m\u001b[0;34m,\u001b[0m \u001b[0;36m29\u001b[0m\u001b[0;34m)\u001b[0m\u001b[0;34m)\u001b[0m\u001b[0;34m\u001b[0m\u001b[0;34m\u001b[0m\u001b[0m\n\u001b[0m",
      "\u001b[0;32m<ipython-input-11-31bf0b8e5850>\u001b[0m in \u001b[0;36mto_the_limit\u001b[0;34m(eng, n)\u001b[0m\n\u001b[1;32m     10\u001b[0m         \u001b[0mCNOT\u001b[0m \u001b[0;34m|\u001b[0m \u001b[0;34m(\u001b[0m\u001b[0mq\u001b[0m\u001b[0;34m[\u001b[0m\u001b[0mi\u001b[0m\u001b[0;34m-\u001b[0m\u001b[0;36m1\u001b[0m\u001b[0;34m]\u001b[0m\u001b[0;34m,\u001b[0m \u001b[0mq\u001b[0m\u001b[0;34m[\u001b[0m\u001b[0mi\u001b[0m\u001b[0;34m]\u001b[0m\u001b[0;34m)\u001b[0m\u001b[0;34m\u001b[0m\u001b[0;34m\u001b[0m\u001b[0m\n\u001b[1;32m     11\u001b[0m \u001b[0;34m\u001b[0m\u001b[0m\n\u001b[0;32m---> 12\u001b[0;31m     \u001b[0mAll\u001b[0m\u001b[0;34m(\u001b[0m\u001b[0mMeasure\u001b[0m\u001b[0;34m)\u001b[0m \u001b[0;34m|\u001b[0m \u001b[0mq\u001b[0m\u001b[0;34m\u001b[0m\u001b[0;34m\u001b[0m\u001b[0m\n\u001b[0m\u001b[1;32m     13\u001b[0m \u001b[0;34m\u001b[0m\u001b[0m\n\u001b[1;32m     14\u001b[0m     \u001b[0meng\u001b[0m\u001b[0;34m.\u001b[0m\u001b[0mflush\u001b[0m\u001b[0;34m(\u001b[0m\u001b[0;34m)\u001b[0m\u001b[0;34m\u001b[0m\u001b[0;34m\u001b[0m\u001b[0m\n",
      "\u001b[0;32m~/.local/lib/python3.7/site-packages/projectq/ops/_metagates.py\u001b[0m in \u001b[0;36m__or__\u001b[0;34m(self, qubits)\u001b[0m\n\u001b[1;32m    290\u001b[0m         \u001b[0;32massert\u001b[0m \u001b[0misinstance\u001b[0m\u001b[0;34m(\u001b[0m\u001b[0mqubits\u001b[0m\u001b[0;34m,\u001b[0m \u001b[0mlist\u001b[0m\u001b[0;34m)\u001b[0m\u001b[0;34m\u001b[0m\u001b[0;34m\u001b[0m\u001b[0m\n\u001b[1;32m    291\u001b[0m         \u001b[0;32mfor\u001b[0m \u001b[0mqubit\u001b[0m \u001b[0;32min\u001b[0m \u001b[0mqubits\u001b[0m\u001b[0;34m:\u001b[0m\u001b[0;34m\u001b[0m\u001b[0;34m\u001b[0m\u001b[0m\n\u001b[0;32m--> 292\u001b[0;31m             \u001b[0mself\u001b[0m\u001b[0;34m.\u001b[0m\u001b[0m_gate\u001b[0m \u001b[0;34m|\u001b[0m \u001b[0mqubit\u001b[0m\u001b[0;34m\u001b[0m\u001b[0;34m\u001b[0m\u001b[0m\n\u001b[0m\u001b[1;32m    293\u001b[0m \u001b[0;34m\u001b[0m\u001b[0m\n\u001b[1;32m    294\u001b[0m \u001b[0;31m#: Shortcut (instance of) :class:`projectq.ops.Tensor`\u001b[0m\u001b[0;34m\u001b[0m\u001b[0;34m\u001b[0m\u001b[0;34m\u001b[0m\u001b[0m\n",
      "\u001b[0;32m~/.local/lib/python3.7/site-packages/projectq/ops/_gates.py\u001b[0m in \u001b[0;36m__or__\u001b[0;34m(self, qubits)\u001b[0m\n\u001b[1;32m    282\u001b[0m                 \u001b[0mnum_qubits\u001b[0m \u001b[0;34m+=\u001b[0m \u001b[0;36m1\u001b[0m\u001b[0;34m\u001b[0m\u001b[0;34m\u001b[0m\u001b[0m\n\u001b[1;32m    283\u001b[0m                 \u001b[0mcmd\u001b[0m \u001b[0;34m=\u001b[0m \u001b[0mself\u001b[0m\u001b[0;34m.\u001b[0m\u001b[0mgenerate_command\u001b[0m\u001b[0;34m(\u001b[0m\u001b[0;34m(\u001b[0m\u001b[0;34m[\u001b[0m\u001b[0mqubit\u001b[0m\u001b[0;34m]\u001b[0m\u001b[0;34m,\u001b[0m\u001b[0;34m)\u001b[0m\u001b[0;34m)\u001b[0m\u001b[0;34m\u001b[0m\u001b[0;34m\u001b[0m\u001b[0m\n\u001b[0;32m--> 284\u001b[0;31m                 \u001b[0mapply_command\u001b[0m\u001b[0;34m(\u001b[0m\u001b[0mcmd\u001b[0m\u001b[0;34m)\u001b[0m\u001b[0;34m\u001b[0m\u001b[0;34m\u001b[0m\u001b[0m\n\u001b[0m\u001b[1;32m    285\u001b[0m         \u001b[0;32mif\u001b[0m \u001b[0mnum_qubits\u001b[0m \u001b[0;34m>\u001b[0m \u001b[0;36m1\u001b[0m\u001b[0;34m:\u001b[0m\u001b[0;34m\u001b[0m\u001b[0;34m\u001b[0m\u001b[0m\n\u001b[1;32m    286\u001b[0m             warnings.warn(\"Pending syntax change in future versions of \"\n",
      "\u001b[0;32m~/.local/lib/python3.7/site-packages/projectq/ops/_command.py\u001b[0m in \u001b[0;36mapply_command\u001b[0;34m(cmd)\u001b[0m\n\u001b[1;32m     56\u001b[0m     \"\"\"\n\u001b[1;32m     57\u001b[0m     \u001b[0mengine\u001b[0m \u001b[0;34m=\u001b[0m \u001b[0mcmd\u001b[0m\u001b[0;34m.\u001b[0m\u001b[0mengine\u001b[0m\u001b[0;34m\u001b[0m\u001b[0;34m\u001b[0m\u001b[0m\n\u001b[0;32m---> 58\u001b[0;31m     \u001b[0mengine\u001b[0m\u001b[0;34m.\u001b[0m\u001b[0mreceive\u001b[0m\u001b[0;34m(\u001b[0m\u001b[0;34m[\u001b[0m\u001b[0mcmd\u001b[0m\u001b[0;34m]\u001b[0m\u001b[0;34m)\u001b[0m\u001b[0;34m\u001b[0m\u001b[0;34m\u001b[0m\u001b[0m\n\u001b[0m\u001b[1;32m     59\u001b[0m \u001b[0;34m\u001b[0m\u001b[0m\n\u001b[1;32m     60\u001b[0m \u001b[0;34m\u001b[0m\u001b[0m\n",
      "\u001b[0;32m~/.local/lib/python3.7/site-packages/projectq/cengines/_main.py\u001b[0m in \u001b[0;36mreceive\u001b[0;34m(self, command_list)\u001b[0m\n\u001b[1;32m    264\u001b[0m                 then send on)\n\u001b[1;32m    265\u001b[0m         \"\"\"\n\u001b[0;32m--> 266\u001b[0;31m         \u001b[0mself\u001b[0m\u001b[0;34m.\u001b[0m\u001b[0msend\u001b[0m\u001b[0;34m(\u001b[0m\u001b[0mcommand_list\u001b[0m\u001b[0;34m)\u001b[0m\u001b[0;34m\u001b[0m\u001b[0;34m\u001b[0m\u001b[0m\n\u001b[0m\u001b[1;32m    267\u001b[0m \u001b[0;34m\u001b[0m\u001b[0m\n\u001b[1;32m    268\u001b[0m     \u001b[0;32mdef\u001b[0m \u001b[0msend\u001b[0m\u001b[0;34m(\u001b[0m\u001b[0mself\u001b[0m\u001b[0;34m,\u001b[0m \u001b[0mcommand_list\u001b[0m\u001b[0;34m)\u001b[0m\u001b[0;34m:\u001b[0m\u001b[0;34m\u001b[0m\u001b[0;34m\u001b[0m\u001b[0m\n",
      "\u001b[0;32m~/.local/lib/python3.7/site-packages/projectq/cengines/_main.py\u001b[0m in \u001b[0;36msend\u001b[0;34m(self, command_list)\u001b[0m\n\u001b[1;32m    286\u001b[0m                                              \"\\n\" + repr(last_line[-2]))\n\u001b[1;32m    287\u001b[0m                 \u001b[0mcompact_exception\u001b[0m\u001b[0;34m.\u001b[0m\u001b[0m__cause__\u001b[0m \u001b[0;34m=\u001b[0m \u001b[0;32mNone\u001b[0m\u001b[0;34m\u001b[0m\u001b[0;34m\u001b[0m\u001b[0m\n\u001b[0;32m--> 288\u001b[0;31m                 \u001b[0;32mraise\u001b[0m \u001b[0mcompact_exception\u001b[0m  \u001b[0;31m# use verbose=True for more info\u001b[0m\u001b[0;34m\u001b[0m\u001b[0;34m\u001b[0m\u001b[0m\n\u001b[0m\u001b[1;32m    289\u001b[0m \u001b[0;34m\u001b[0m\u001b[0m\n\u001b[1;32m    290\u001b[0m     \u001b[0;32mdef\u001b[0m \u001b[0mflush\u001b[0m\u001b[0;34m(\u001b[0m\u001b[0mself\u001b[0m\u001b[0;34m,\u001b[0m \u001b[0mdeallocate_qubits\u001b[0m\u001b[0;34m=\u001b[0m\u001b[0;32mFalse\u001b[0m\u001b[0;34m)\u001b[0m\u001b[0;34m:\u001b[0m\u001b[0;34m\u001b[0m\u001b[0;34m\u001b[0m\u001b[0m\n",
      "\u001b[0;31mMemoryError\u001b[0m: std::bad_alloc\n raised in:\n'  File \"/home/carlos/.local/lib/python3.7/site-packages/projectq/backends/_sim/_simulator.py\", line 382, in _handle'\n'    self._simulator.allocate_qubit(ID)'"
     ]
    }
   ],
   "source": [
    "def to_the_limit(eng, n):\n",
    "\n",
    "    q = eng.allocate_qureg(n)\n",
    "    \n",
    "    H | q[0]\n",
    "    \n",
    "    for i in range(1, n):\n",
    "\n",
    "        H | q[i]\n",
    "        CNOT | (q[i-1], q[i])\n",
    "    \n",
    "    All(Measure) | q\n",
    "    \n",
    "    eng.flush()\n",
    "    \n",
    "    return q\n",
    "\n",
    "eng = projectq.MainEngine()\n",
    "\n",
    "print(to_the_limit(eng, 29))"
   ]
  },
  {
   "cell_type": "markdown",
   "metadata": {},
   "source": [
    "**Resultado:** Con 29 qbits el simulador lanza una excepción de memoria insuficiente."
   ]
  },
  {
   "cell_type": "code",
   "execution_count": null,
   "metadata": {},
   "outputs": [],
   "source": []
  }
 ],
 "metadata": {
  "kernelspec": {
   "display_name": "Python 3",
   "language": "python",
   "name": "python3"
  },
  "language_info": {
   "codemirror_mode": {
    "name": "ipython",
    "version": 3
   },
   "file_extension": ".py",
   "mimetype": "text/x-python",
   "name": "python",
   "nbconvert_exporter": "python",
   "pygments_lexer": "ipython3",
   "version": "3.7.3"
  }
 },
 "nbformat": 4,
 "nbformat_minor": 2
}
